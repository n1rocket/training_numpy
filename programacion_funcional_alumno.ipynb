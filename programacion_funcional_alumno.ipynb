{
 "cells": [
  {
   "cell_type": "markdown",
   "metadata": {},
   "source": [
    "# Programación Funcional"
   ]
  },
  {
   "cell_type": "markdown",
   "metadata": {},
   "source": [
    "## Qué es la programación funcional?\n",
    "La programción fucional es el paradigma que utiliza funciones para expresar su comportamiento.\n",
    "\n",
    "Para entender la programación funcional, es necesario entender la programación imperativa y los side effects.\n",
    "La programación imperativa se puede definir como la programación que se ejecuta de forma secuencial y va cambiando el estado de la aplicación.\n",
    "por cambiar el estado de la aplicación nos referimos a la modificación de de las variable y los objetos de la aplicación.\n",
    "\n",
    "En contraposición a la programación imperativa, la programación funcional no modifica el estado de la aplicación."
   ]
  },
  {
   "cell_type": "markdown",
   "metadata": {},
   "source": [
    "### Ejemplo de programacion funcional vs programación imperativa"
   ]
  },
  {
   "cell_type": "code",
   "execution_count": 7,
   "metadata": {},
   "outputs": [],
   "source": [
    "# Programacion imperativa\n",
    "enteros = [1,2,3,4,5,6]"
   ]
  },
  {
   "cell_type": "code",
   "execution_count": 9,
   "metadata": {},
   "outputs": [
    {
     "name": "stdout",
     "output_type": "stream",
     "text": [
      "[2, 4, 6]\n"
     ]
    }
   ],
   "source": [
    "'''\n",
    "lista los números pares de la lista enteros\n",
    "'''\n",
    "lista_de_pares = []\n",
    "for numero in enteros:\n",
    "    if numero%2 == 0:\n",
    "        lista_de_pares.append(numero)\n",
    "\n",
    "print(lista_de_pares)"
   ]
  },
  {
   "cell_type": "code",
   "execution_count": 10,
   "metadata": {},
   "outputs": [
    {
     "name": "stdout",
     "output_type": "stream",
     "text": [
      "[4, 16, 36]\n"
     ]
    }
   ],
   "source": [
    "'''\n",
    "eleva al cuadrado los números de la lista pares\n",
    "'''\n",
    "pares_al_cuadrado = []\n",
    "for numero in lista_de_pares:\n",
    "    pares_al_cuadrado.append(numero*numero)\n",
    "    \n",
    "print(pares_al_cuadrado)"
   ]
  },
  {
   "cell_type": "code",
   "execution_count": 13,
   "metadata": {},
   "outputs": [
    {
     "name": "stdout",
     "output_type": "stream",
     "text": [
      "56\n"
     ]
    }
   ],
   "source": [
    "'''\n",
    "suma todos los números de la lista cuadrados\n",
    "'''\n",
    "sumatorio = 0\n",
    "for numero in pares_al_cuadrado:\n",
    "    sumatorio+=numero\n",
    "\n",
    "print(sumatorio)"
   ]
  },
  {
   "cell_type": "markdown",
   "metadata": {},
   "source": [
    "Como podemos ver en el ejemplo anterior, mediante programación imperativa vamos creando una serie de variables, modificando su estado y obteniendo un resultado.\n",
    "Ahora vamos a hacer lo mismo con programación funcional."
   ]
  },
  {
   "cell_type": "code",
   "execution_count": 14,
   "metadata": {},
   "outputs": [],
   "source": [
    "# Programacion funcional\n",
    "enteros = [1,2,3,4,5,6]"
   ]
  },
  {
   "cell_type": "code",
   "execution_count": 19,
   "metadata": {},
   "outputs": [
    {
     "name": "stdout",
     "output_type": "stream",
     "text": [
      "[2, 4, 6]\n"
     ]
    }
   ],
   "source": [
    "'''\n",
    "lista los números pares de la lista enteros\n",
    "'''\n",
    "lista_de_pares = list(filter(lambda numero: numero%2 ==0, enteros))\n",
    "print(lista_de_pares)"
   ]
  },
  {
   "cell_type": "code",
   "execution_count": 21,
   "metadata": {},
   "outputs": [
    {
     "name": "stdout",
     "output_type": "stream",
     "text": [
      "[1, 4, 9, 16, 25, 36]\n"
     ]
    }
   ],
   "source": [
    "'''\n",
    "eleva al cuadrado los números de la lista pares\n",
    "'''\n",
    "pares_al_cuadrado = list(map(lambda numero: numero*numero, enteros  ))\n",
    "print(pares_al_cuadrado)"
   ]
  },
  {
   "cell_type": "code",
   "execution_count": 24,
   "metadata": {},
   "outputs": [
    {
     "name": "stdout",
     "output_type": "stream",
     "text": [
      "91\n"
     ]
    }
   ],
   "source": [
    "'''\n",
    "suma todos los números de la lista cuadrados\n",
    "'''\n",
    "from functools import reduce\n",
    "total = reduce(lambda sumatorio, numero: sumatorio+numero, pares_al_cuadrado )\n",
    "print(total)"
   ]
  },
  {
   "cell_type": "markdown",
   "metadata": {},
   "source": [
    "Qué vamos a ver?\n",
    "- Funciones anonimas (lambda)\n",
    "- Filter\n",
    "- Map\n",
    "- zip\n",
    "- Reduce\n",
    "- partial"
   ]
  },
  {
   "cell_type": "markdown",
   "metadata": {},
   "source": [
    "### Lambda\n",
    "Las expresiones lamda son funciones anónimas."
   ]
  },
  {
   "cell_type": "code",
   "execution_count": 57,
   "metadata": {},
   "outputs": [
    {
     "name": "stdout",
     "output_type": "stream",
     "text": [
      "True\n",
      "False\n"
     ]
    },
    {
     "data": {
      "text/plain": [
       "[1, 4, 9, 16]"
      ]
     },
     "execution_count": 57,
     "metadata": {},
     "output_type": "execute_result"
    }
   ],
   "source": [
    "import random\n",
    "# Programación imperativa\n",
    "def es_par(num):\n",
    "    return num%2 == 0\n",
    "\n",
    "print(es_par(98))\n",
    "print(es_par(53))\n",
    "\n",
    "# Función lambda\n",
    "\n",
    "#lambda num: num%2 == 0\n",
    "#       ^       ^ \n",
    "#    argumento Cuerpo de la función\n",
    "\n",
    "# llamar a lambda sin argumentos\n",
    "nombre = lambda: 'Pablo'\n",
    "\n",
    "\n",
    "# A las lambdas se les pueden pasar varios parametros\n",
    "\n",
    "suma = lambda op1, op2: op1 + op2\n",
    "numero_aleatorio = lambda x: random.randrange(x)\n",
    "suma(numero_aleatorio(100),34)\n",
    "\n",
    "# Tambien se le pueden pasar un numero indefinido de args\n",
    "\n",
    "elevar_al_cuadrado = lambda *args: [num**2 for num in args]\n",
    "elevar_al_cuadrado(1,2,3,4)\n"
   ]
  },
  {
   "cell_type": "code",
   "execution_count": 59,
   "metadata": {},
   "outputs": [],
   "source": [
    "valores = [1,2,3,4,5,6]\n",
    "# for programacions imperativa\n",
    "numeros_al_cuadrado = []\n",
    "for num in valores:\n",
    "    numeros_al_cuadrado.append(num**2)\n",
    "\n",
    "# comprehension lists\n",
    "numeros_al_cuadrado = [ num**2 for num in valores ]\n"
   ]
  },
  {
   "cell_type": "code",
   "execution_count": 65,
   "metadata": {},
   "outputs": [
    {
     "data": {
      "text/plain": [
       "[2, 4, 6]"
      ]
     },
     "execution_count": 65,
     "metadata": {},
     "output_type": "execute_result"
    }
   ],
   "source": [
    "valores = [1,2,3,4,5,6]\n",
    "# for programacions imperativa\n",
    "numeros_pares = []\n",
    "for num in valores:\n",
    "    if num%2 == 0:\n",
    "        numeros_pares.append(num)\n",
    "\n",
    "# comprehension lists\n",
    "numeros_pares = [ num for num in valores if num%2 == 0]\n",
    "numeros_pares"
   ]
  },
  {
   "cell_type": "code",
   "execution_count": 80,
   "metadata": {},
   "outputs": [],
   "source": [
    "valores = [1,2,3,4,5,6]\n",
    "# for programacions imperativa\n",
    "numeros_pares = []\n",
    "for num in valores:\n",
    "    if num%2 == 0:\n",
    "        numeros_pares.append(num)\n",
    "    else:\n",
    "        numeros_pares.append(0)\n",
    "\n",
    "# comprehension lists\n",
    "numeros_pares = [num if num%2 == 0 else 0 for num in valores]"
   ]
  },
  {
   "cell_type": "raw",
   "metadata": {},
   "source": [
    "# Capitalizar un nombre\n",
    "# Añadir sr al principio\n",
    "capitalizar = lambda nombre: nombre[0].upper() + nombre[1:] # nombre.capitalize()\n",
    "annadir_sr = lambda x: 'Sr. ' + x\n",
    "saludar = lambda nombre: annadir_sr(capitalizar(nombre))\n",
    "saludar('pablo')"
   ]
  },
  {
   "cell_type": "code",
   "execution_count": 38,
   "metadata": {},
   "outputs": [
    {
     "data": {
      "text/plain": [
       "'Sr. Pablo'"
      ]
     },
     "execution_count": 38,
     "metadata": {},
     "output_type": "execute_result"
    }
   ],
   "source": [
    "# prog imperativa\n",
    "def capitalizar(nombre):\n",
    "    return nombre.capitalize()\n",
    "\n",
    "def annadir_sr(nombre):\n",
    "    return 'Sr. ' + nombre\n",
    "\n",
    "def saludar(nombre):\n",
    "    nombre = capitalizar(nombre)\n",
    "    return annadir_sr(nombre)\n",
    "\n",
    "saludar('pablo')"
   ]
  },
  {
   "cell_type": "markdown",
   "metadata": {},
   "source": [
    "### filter"
   ]
  },
  {
   "cell_type": "code",
   "execution_count": 240,
   "metadata": {},
   "outputs": [
    {
     "name": "stdout",
     "output_type": "stream",
     "text": [
      "[('2', 2), ('8', None)]\n"
     ]
    }
   ],
   "source": [
    "# Filtra los elementos de una lista\n",
    "# filter( funcion , lista )\n",
    "es_par = lambda x: x%2 == 0\n",
    "\n",
    "numeros_pares = filter( es_par, [1,2,3,4,5,6,7,8,9,10]  )\n",
    "list(numeros_pares)\n",
    "\n",
    "numeros = { '2': 2, '5': 1, '8': None, '7': None }\n",
    "es_par_dict = lambda x: es_par(x[1]) if x[1] else es_par(int(x[0]))\n",
    " \n",
    "numeros_pares = filter( es_par_dict,  numeros.items() )\n",
    "print(list(numeros_pares))"
   ]
  },
  {
   "cell_type": "code",
   "execution_count": 241,
   "metadata": {},
   "outputs": [
    {
     "name": "stdout",
     "output_type": "stream",
     "text": [
      "[48, 43, 45, 52]\n"
     ]
    }
   ],
   "source": [
    "'''\n",
    "filtra los números mayores a 40 y menores a 60 de la lista enteros\n",
    "'''\n",
    "lista_enteros = [40, 32,86,48,78,15,43,12,78,95,45,52,69,78,84]\n",
    "resultado = list(filter(lambda x: x > 40 and x < 60, lista_enteros))\n",
    "print(resultado)"
   ]
  },
  {
   "cell_type": "markdown",
   "metadata": {},
   "source": [
    "Como hemos visto anteriormente podemos indicar una función lambda para filtrar una lista de elementos."
   ]
  },
  {
   "cell_type": "code",
   "execution_count": 242,
   "metadata": {},
   "outputs": [
    {
     "name": "stdout",
     "output_type": "stream",
     "text": [
      "32\n",
      "[{'nombre': 'Maria', 'nacimiento': 1980}, {'nombre': 'Juana', 'nacimiento': 1995}, {'nombre': 'Jorge', 'nacimiento': 1985}, {'nombre': 'Pablo', 'nacimiento': 1990}, {'nombre': 'Clara', 'nacimiento': 1995}]\n"
     ]
    }
   ],
   "source": [
    "'''\n",
    "crea una función lambda que reciba un año de nacimiento y devuelva la edad actual\n",
    "'''\n",
    "edad = lambda x: 2022 - x\n",
    "print(edad(1990))\n",
    "\n",
    "'''\n",
    "ahora filtra una lista de usuarios que tengan una edad mayor a 18\n",
    "'''\n",
    "usuarios = [ \n",
    "    {'nombre': 'Juan', 'nacimiento': 2017},\n",
    "    {'nombre': 'Pedro', 'nacimiento': 2018},\n",
    "    {'nombre': 'Maria', 'nacimiento': 1980},\n",
    "    {'nombre': 'Juana', 'nacimiento': 1995},\n",
    "    {'nombre': 'Jorge', 'nacimiento': 1985},\n",
    "    {'nombre': 'Pablo', 'nacimiento': 1990},\n",
    "    {'nombre': 'Clara', 'nacimiento': 1995},\n",
    "    {'nombre': 'Bea', 'nacimiento': 2019},\n",
    "    {'nombre': 'Pilar', 'nacimiento': 2010},\n",
    "    ]\n",
    "mayores_de_edad = list(filter(lambda x: edad(x['nacimiento']) > 18, usuarios))\n",
    "print(mayores_de_edad)"
   ]
  },
  {
   "cell_type": "code",
   "execution_count": 243,
   "metadata": {},
   "outputs": [
    {
     "name": "stdout",
     "output_type": "stream",
     "text": [
      "['pajaro', 'caballo']\n"
     ]
    }
   ],
   "source": [
    "'''\n",
    "Filtra las cadenas de la lista que tengan una longitud mayor a 5\n",
    "'''\n",
    "nombres_de_animales = ['perro', 'gato', 'pez', 'pajaro', 'vaca', 'caballo', 'cabra']\n",
    "nombres_de_animales_mayores_a_5 = list(filter(lambda x: len(x) > 5, nombres_de_animales))\n",
    "print(nombres_de_animales_mayores_a_5)"
   ]
  },
  {
   "cell_type": "code",
   "execution_count": 244,
   "metadata": {},
   "outputs": [
    {
     "name": "stdout",
     "output_type": "stream",
     "text": [
      "['pajaro', 'caballo']\n"
     ]
    }
   ],
   "source": [
    "'''\n",
    "filtra las cadenas de la lista que tengan una longitud mayor al número indicado en el argumento\n",
    "'''\n",
    "nombres_de_animales = ['perro', 'gato', 'pez', 'pajaro', 'vaca', 'caballo', 'cabra']\n",
    "nombres_de_animales_filtrados = lambda x: list(filter(lambda y: len(y) > x, nombres_de_animales))\n",
    "print(nombres_de_animales_filtrados(5))"
   ]
  },
  {
   "cell_type": "markdown",
   "metadata": {},
   "source": [
    "### map"
   ]
  },
  {
   "cell_type": "code",
   "execution_count": 234,
   "metadata": {},
   "outputs": [
    {
     "name": "stdout",
     "output_type": "stream",
     "text": [
      "[1, 4, 9, 16, 25, 36, 49, 64, 81, 100]\n",
      "[2, 4, 6, 8, 10]\n"
     ]
    }
   ],
   "source": [
    "# map( función, iterable)\n",
    "# La funcion map aplica a cada elemento del iterable la función dada\n",
    "\n",
    "numeros = [1, 2, 3, 4, 5, 6, 7, 8, 9, 10]\n",
    "cuadrado = lambda x: x**2\n",
    "\n",
    "elevar_al_cuadrado = map(cuadrado2, numeros)\n",
    "print(list(elevar_al_cuadrado))\n",
    "\n",
    "# función map con varios iterables\n",
    "suma = lambda x,y: x+y\n",
    "\n",
    "suma_listas = map(suma, [1,2,3,4,5], [1,2,3,4,5])\n",
    "print(list(suma_listas))\n"
   ]
  },
  {
   "cell_type": "code",
   "execution_count": 233,
   "metadata": {},
   "outputs": [
    {
     "name": "stdout",
     "output_type": "stream",
     "text": [
      "['Hola Juan', 'Hola Pedro', 'Hola Maria', 'Hola Juana', 'Hola Jorge', 'Hola Pablo', 'Hola Pilar']\n"
     ]
    }
   ],
   "source": [
    "'''\n",
    "Crea un función que reciba una lista de nombres y añada 'Hola' seguido de cada nombre.\n",
    "'''\n",
    "nombres = ['Juan', 'Pedro', 'Maria', 'Juana', 'Jorge', 'Pablo', 'Pilar']\n",
    "saludo = lambda x: 'Hola ' + x\n",
    "saludos = map(saludo,nombres)\n",
    "print(list(saludos))\n"
   ]
  },
  {
   "cell_type": "code",
   "execution_count": 120,
   "metadata": {},
   "outputs": [
    {
     "name": "stdout",
     "output_type": "stream",
     "text": [
      "[1, 2, 3, 4, 5, 6, 7, 8, 9, 10]\n"
     ]
    }
   ],
   "source": [
    "'''\n",
    "Crea una función que reciba una lista de valores decimales y que devuelva una lista con los valores convertidos a enteros.\n",
    "'''\n",
    "valores = [1.1, 2.2, 3.3, 4.4, 5.5, 6.6, 7.7, 8.8, 9.9, 10.10]\n",
    "entero = lambda x: int(x)\n",
    "lista_enteros = map(entero, valores)\n",
    "print(list(lista_enteros))\n"
   ]
  },
  {
   "cell_type": "markdown",
   "metadata": {},
   "source": [
    "### zip"
   ]
  },
  {
   "cell_type": "code",
   "execution_count": 132,
   "metadata": {},
   "outputs": [
    {
     "name": "stdout",
     "output_type": "stream",
     "text": [
      "('Juan', 3)\n",
      "('Pedro', 9)\n",
      "('Maria', 6)\n",
      "('Juana', 7)\n",
      "('Jorge', 5)\n",
      "('Pablo', 4)\n",
      "('Pilar', 3)\n",
      "3 Juan\n",
      "9 Pedro\n",
      "6 Maria\n",
      "7 Juana\n",
      "5 Jorge\n",
      "4 Pablo\n",
      "3 Pilar\n",
      "['Juan ha sacado un 3', 'Pedro ha sacado un 9', 'Maria ha sacado un 6', 'Juana ha sacado un 7', 'Jorge ha sacado un 5', 'Pablo ha sacado un 4', 'Pilar ha sacado un 3']\n",
      "['Juan ha sacado un 3', 'Pedro ha sacado un 9', 'Maria ha sacado un 6', 'Juana ha sacado un 7', 'Jorge ha sacado un 5', 'Pablo ha sacado un 4', 'Pilar ha sacado un 3']\n"
     ]
    }
   ],
   "source": [
    "lista = list(zip([1,2,3,4,5,6,7,8,9],[10,11,12,13,14,15,16,17,18]))\n",
    "#print(list(lista))\n",
    "\n",
    "alumnos = ['Juan', 'Pedro', 'Maria', 'Juana', 'Jorge', 'Pablo', 'Pilar']\n",
    "calificaciones = [ 3,9,6,7,5,4,3]\n",
    "\n",
    "# programación imperativa\n",
    "for elemento in zip(alumnos,calificaciones):\n",
    "    print(elemento)\n",
    "\n",
    "for nombre, calificacion in zip(calificaciones,alumnos):\n",
    "    print(nombre, calificacion)\n",
    "\n",
    "# programación funcional\n",
    "resultado_calificacion = lambda result:  f'{result[0]} ha sacado un {result[1]}'\n",
    "lista_de_notas = map(resultado_calificacion, zip(alumnos,calificaciones))\n",
    "print(list(lista_de_notas))\n",
    "\n",
    "# lo mismo sin el zip\n",
    "resultado_calificacion = lambda nombre, calif:  f'{nombre} ha sacado un {calif}'\n",
    "lista_de_notas = map(resultado_calificacion, alumnos, calificaciones)\n",
    "print(list(lista_de_notas))"
   ]
  },
  {
   "cell_type": "markdown",
   "metadata": {},
   "source": [
    "### reduce"
   ]
  },
  {
   "cell_type": "code",
   "execution_count": 142,
   "metadata": {},
   "outputs": [
    {
     "name": "stdout",
     "output_type": "stream",
     "text": [
      "15\n"
     ]
    },
    {
     "data": {
      "text/plain": [
       "'\\nacum = 0 (o el valor que se especifique)\\nsuma(acumulador, 1 )\\nacum = 1\\nsuma(acumulador, 2 )\\nacum = 3\\nsuma(acumulador, 3 )\\nacum = 6\\nsuma(acumulador, 4 )\\nacum = 10\\n'"
      ]
     },
     "execution_count": 142,
     "metadata": {},
     "output_type": "execute_result"
    }
   ],
   "source": [
    "from functools import reduce\n",
    "\n",
    "# reduce( funcion, iterable, acumulador=0)\n",
    "\n",
    "# Suma todos los elementos de una lista\n",
    "suma = lambda acumulador, valor: acumulador + valor\n",
    "\n",
    "suma_valores = reduce(suma, [1,2,3,4], 0)\n",
    "print(suma_valores)\n",
    "\n",
    "'''\n",
    "acum = 0 (o el valor que se especifique)\n",
    "suma(acumulador, 1 )\n",
    "acum = 1\n",
    "suma(acumulador, 2 )\n",
    "acum = 3\n",
    "suma(acumulador, 3 )\n",
    "acum = 6\n",
    "suma(acumulador, 4 )\n",
    "acum = 10\n",
    "'''\n"
   ]
  },
  {
   "cell_type": "code",
   "execution_count": 141,
   "metadata": {},
   "outputs": [
    {
     "name": "stdout",
     "output_type": "stream",
     "text": [
      "Juan-Pedro-Maria-Juana-Jorge-Pablo-Pilar\n"
     ]
    }
   ],
   "source": [
    "# Hacer un join de los nombres de los alumnos\n",
    "alumnos = ['Juan', 'Pedro', 'Maria', 'Juana', 'Jorge', 'Pablo', 'Pilar']\n",
    "'-'.join(alumnos)\n",
    "\n",
    "# ejemplo con lambda\n",
    "une_nombres = lambda acumulador, nombre: acumulador+'-'+nombre\n",
    "\n",
    "nombres_unidos = reduce(une_nombres,alumnos)\n",
    "print(nombres_unidos)\n"
   ]
  },
  {
   "cell_type": "code",
   "execution_count": 147,
   "metadata": {},
   "outputs": [
    {
     "data": {
      "text/plain": [
       "90"
      ]
     },
     "execution_count": 147,
     "metadata": {},
     "output_type": "execute_result"
    }
   ],
   "source": [
    "from functools import reduce\n",
    "'''\n",
    "Dada una lista de numeros, devuelve el valor del numero mayor. Utilizando reduce\n",
    "'''\n",
    "maximo = lambda valores: reduce(lambda x,y: x if x > y else y, valores )\n",
    "maximo([ 1,34,20,8,51,9,32,43,10])\n",
    "\n",
    "#-----------------------------------------\n",
    "maximo_de_valores = lambda x,y: x if x > y else y\n",
    "maximo = lambda valores: reduce(maximo_de_valores, valores)\n",
    "maximo([ 1,34,20,8,51,9,32,90,10])\n",
    "\n"
   ]
  },
  {
   "cell_type": "code",
   "execution_count": 154,
   "metadata": {},
   "outputs": [
    {
     "data": {
      "text/plain": [
       "True"
      ]
     },
     "execution_count": 154,
     "metadata": {},
     "output_type": "execute_result"
    }
   ],
   "source": [
    "from functools import reduce\n",
    "'''\n",
    "dado un array de booleanos, comprueba si todos los elementos son true\n",
    "'''\n",
    "booleanos = [True, True, True, True, True, True, True, True, True, True]\n",
    "\n",
    "todos_true = reduce( lambda acumulado, valor: acumulado and valor, booleanos) # Reduce retorna un valor\n",
    "todos_true\n",
    "\n",
    "#-------------Pasar valores por argumento\n",
    "ambos_true = lambda acumulado,valor: acumulado and valor\n",
    "todos_true = lambda valores: reduce(ambos_true, valores) # Lambda retorna una función\n",
    "todos_true(booleanos)\n"
   ]
  },
  {
   "cell_type": "code",
   "execution_count": 232,
   "metadata": {},
   "outputs": [
    {
     "name": "stdout",
     "output_type": "stream",
     "text": [
      "5\n"
     ]
    }
   ],
   "source": [
    "from functools import reduce\n",
    "\n",
    "'''\n",
    "Cuenta el número de elementos de un iterable que cumplan una condición.\n",
    "'''\n",
    "numeros = [1, 2, 3, 4, 5, 6, 7, 8, 9, 10]\n",
    "contador = reduce(lambda x, y: x + 1 if y > 5 else x, numeros, 0) # valores mayores a 5\n",
    "print(contador)\n"
   ]
  },
  {
   "cell_type": "markdown",
   "metadata": {},
   "source": [
    "### partial"
   ]
  },
  {
   "cell_type": "code",
   "execution_count": 195,
   "metadata": {},
   "outputs": [
    {
     "data": {
      "text/plain": [
       "[11, 4, 13, 6, 15, 8, 17, 10, 19, 12]"
      ]
     },
     "execution_count": 195,
     "metadata": {},
     "output_type": "execute_result"
    }
   ],
   "source": [
    "from functools import partial\n",
    "\n",
    "'''\n",
    "Dada una lista de números, si es par suma 2, si es impar suma 10\n",
    "'''\n",
    "suma = lambda op1,op2: op1 + op2\n",
    "multiplica = lambda op1,op2: op1 * op2\n",
    "\n",
    "suma_2 = partial(suma,2)\n",
    "suma_10 = partial(suma,op2=10)\n",
    "lista_numeros = [1, 2, 3, 4, 5, 6, 7, 8, 9, 10]\n",
    "\n",
    "\n",
    "lista_procesada = list(map(lambda x: suma_2(x) if x%2==0 else suma_10(x) , lista_numeros ))\n",
    "lista_procesada\n"
   ]
  },
  {
   "cell_type": "markdown",
   "metadata": {},
   "source": [
    "## Ejercicios:"
   ]
  },
  {
   "cell_type": "code",
   "execution_count": 225,
   "metadata": {},
   "outputs": [
    {
     "name": "stdout",
     "output_type": "stream",
     "text": [
      "['HOLA', 'ADIOS', 'BUENAS', 'TARDES']\n"
     ]
    }
   ],
   "source": [
    "# 1. Data una lista de cadenas obtener una lista de cadenas en mayúsculas\n",
    "entrada = ['hola', 'adios', 'buenas', 'tardes']\n",
    "print(list(map(lambda x: x.upper(), entrada)))"
   ]
  },
  {
   "cell_type": "code",
   "execution_count": 226,
   "metadata": {},
   "outputs": [
    {
     "data": {
      "text/plain": [
       "['Juan', 'Maria', 'Jorge']"
      ]
     },
     "execution_count": 226,
     "metadata": {},
     "output_type": "execute_result"
    }
   ],
   "source": [
    "# 2. Dada una lista de alumnos con sus calificaciones, \n",
    "# obtener una lista con el nombre de los que han obtenido una calificación media mayor a 7\n",
    "entrada = [ {\n",
    "    'nombre': 'Juan',\n",
    "    'calificaciones': [10, 9, 6] # promedio: 7.5\n",
    "    },\n",
    "    {\n",
    "    'nombre': 'Pedro',\n",
    "    'calificaciones': [8, 7, 5] # promedio: 6.5\n",
    "    },\n",
    "    {\n",
    "    'nombre': 'Maria',\n",
    "    'calificaciones': [9, 8, 7] # promedio: 8.0\n",
    "    },\n",
    "    {\n",
    "    'nombre': 'Juana',\n",
    "    'calificaciones': [3,6,4] # promedio: 5.0\n",
    "    },\n",
    "    {\n",
    "    'nombre': 'Jorge',\n",
    "    'calificaciones': [10, 10, 10] # promedio: 10.0\n",
    "    },\n",
    "    {\n",
    "    'nombre': 'Pablo',\n",
    "    'calificaciones': [2, 0, 1] # promedio: 1.0\n",
    "    },\n",
    "    {\n",
    "    'nombre': 'Pilar',\n",
    "    'calificaciones': [5,6,6] # promedio: 5.6\n",
    "    }]\n",
    "\n",
    "promedio = lambda x: sum(x['calificaciones']) / len(x['calificaciones'])\n",
    "nombre = lambda x: x['nombre']\n",
    "\n",
    "notables =  list(map(lambda alumno: nombre(alumno) ,filter(lambda x: promedio(x) > 7, entrada)))\n",
    "notables"
   ]
  },
  {
   "cell_type": "code",
   "execution_count": 227,
   "metadata": {},
   "outputs": [
    {
     "data": {
      "text/plain": [
       "['rajar', 'radar', 'oro']"
      ]
     },
     "execution_count": 227,
     "metadata": {},
     "output_type": "execute_result"
    }
   ],
   "source": [
    "# 3. Dada una lista de palabras, obtener una lista con las palabras que son palíndromos\n",
    "# palíndromo: una palabra que se lee de izquierda a derecha igual que de derecha a izquierda\n",
    "palabras = ['rajar', 'amar', 'radar', 'salar', 'alada', 'oro', 'arar']\n",
    "palindromos = list(filter(lambda x: x == x[::-1], palabras)) # todas las posiciones con paso -1\n",
    "palindromos"
   ]
  },
  {
   "cell_type": "code",
   "execution_count": 228,
   "metadata": {},
   "outputs": [
    {
     "data": {
      "text/plain": [
       "[1, 4, 9, 16, 25]"
      ]
     },
     "execution_count": 228,
     "metadata": {},
     "output_type": "execute_result"
    }
   ],
   "source": [
    "# 4. Define una función que dado un valor genere una lista con los números desde 1 hasta ese valor elevados al cuadrado\n",
    "cuadrados = lambda x: list(map(lambda y: y ** 2, range(1,x+1)))\n",
    "cuadrados(5)"
   ]
  },
  {
   "cell_type": "code",
   "execution_count": 229,
   "metadata": {},
   "outputs": [
    {
     "name": "stdout",
     "output_type": "stream",
     "text": [
      "['JavaScript', 'Python', 'Objective-C']\n"
     ]
    }
   ],
   "source": [
    "# 5. Define una función que si no recibe un valor devuelva 'desconocido'\n",
    "palabras = ['HTML', 'CSS', 'JavaScript', 'Python', 'Ruby', 'PHP', 'SQL', 'Java', 'Swift', 'Objective-C' ]\n",
    "longitud_mayor_5 = list(filter(lambda x: len(x) > 5, palabras))\n",
    "print(longitud_mayor_5)"
   ]
  },
  {
   "cell_type": "code",
   "execution_count": 230,
   "metadata": {},
   "outputs": [
    {
     "data": {
      "text/plain": [
       "['JavaScript', 'Java']"
      ]
     },
     "execution_count": 230,
     "metadata": {},
     "output_type": "execute_result"
    }
   ],
   "source": [
    "# 6. Define una función que retorne las palabras de una lista que contengan una letra dada\n",
    "palabras = ['HTML', 'CSS', 'JavaScript', 'Python', 'Ruby', 'PHP', 'SQL', 'Java', 'Swift', 'Objective-C' ]\n",
    "contiene_letra = lambda letra, listado: list(filter(lambda x: letra in x, listado))\n",
    "contiene_letra('a', palabras)"
   ]
  },
  {
   "cell_type": "code",
   "execution_count": 231,
   "metadata": {},
   "outputs": [
    {
     "data": {
      "text/plain": [
       "'HTML|CSS|JavaScript|Python|Ruby|PHP|SQL|Java|Swift|Objective-C'"
      ]
     },
     "execution_count": 231,
     "metadata": {},
     "output_type": "execute_result"
    }
   ],
   "source": [
    "# 7. Define una función que dada una lista de palabras contatene todas con un '|' mediante reduce\n",
    "palabras = ['HTML', 'CSS', 'JavaScript', 'Python', 'Ruby', 'PHP', 'SQL', 'Java', 'Swift', 'Objective-C' ]\n",
    "concatenadas = reduce(lambda acumulador, palabra: acumulador + '|' + palabra, palabras)\n",
    "concatenadas"
   ]
  },
  {
   "cell_type": "code",
   "execution_count": 223,
   "metadata": {},
   "outputs": [
    {
     "data": {
      "text/plain": [
       "['hola', 'cajon', 'bajon', 'balon']"
      ]
     },
     "execution_count": 223,
     "metadata": {},
     "output_type": "execute_result"
    }
   ],
   "source": [
    "'''\n",
    " -----------------------\n",
    "|       |       |       |\n",
    "|   1   |   2   |   3   |\n",
    "| a b c | d e f | g h i |\n",
    " -----------------------\n",
    "|       |       |       |\n",
    "|   4   |   5   |   6   |\n",
    "| j k l | m n o | p q r |\n",
    " -----------------------\n",
    "|       |       |       |\n",
    "|   7   |   8   |   9   |\n",
    "| s t u | v w x | y z   |\n",
    " -----------------------\n",
    "\n",
    "ejemplo: \n",
    "  3541 => hola\n",
    "  57525 => mundo\n",
    "  11455 => cajón, bajón, balón\n",
    "Definir una función que dado un número, devuelva una lista con las palabras que se pueden escribir en ese número\n",
    "'''\n",
    "teclado = { 'abc': 1, 'def': 2, 'ghi': 3, 'jkl': 4, 'mno': 5, 'pqr': 6, 'stu': 7, 'vwx': 8, 'yz': 9 }\n",
    "\n",
    "letra_a_numero = lambda letra: str([teclado[key] for key in teclado.keys() if letra in key][0])\n",
    "version_numeral = lambda palabra: ''.join(list(map(letra_a_numero,  palabra)))\n",
    "\n",
    "\n",
    "\n",
    "valores = ['hola', 'mundo', 'cajon', 'bajon', 'balon', 'melon']\n",
    "\n",
    "palabras_en_numero = lambda numero, palabras: [ palabra for palabra in palabras if version_numeral(palabra) in str(numero) ]\n",
    "palabras_en_numero(35411455, valores)"
   ]
  },
  {
   "cell_type": "code",
   "execution_count": null,
   "metadata": {},
   "outputs": [],
   "source": []
  }
 ],
 "metadata": {
  "interpreter": {
   "hash": "916dbcbb3f70747c44a77c7bcd40155683ae19c65e1c03b4aa3499c5328201f1"
  },
  "kernelspec": {
   "display_name": "Python 3 (ipykernel)",
   "language": "python",
   "name": "python3"
  },
  "language_info": {
   "codemirror_mode": {
    "name": "ipython",
    "version": 3
   },
   "file_extension": ".py",
   "mimetype": "text/x-python",
   "name": "python",
   "nbconvert_exporter": "python",
   "pygments_lexer": "ipython3",
   "version": "3.8.10"
  }
 },
 "nbformat": 4,
 "nbformat_minor": 2
}

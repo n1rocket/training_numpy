{
 "cells": [
  {
   "cell_type": "markdown",
   "metadata": {},
   "source": [
    "# Programación Funcional"
   ]
  },
  {
   "cell_type": "markdown",
   "metadata": {},
   "source": [
    "## Qué es la programación funcional?\n",
    "La programción fucional es el paradigma que utiliza funciones para expresar su comportamiento.\n",
    "\n",
    "Para entender la programación funcional, es necesario entender la programación imperativa y los side effects.\n",
    "La programación imperativa se puede definir como la programación que se ejecuta de forma secuencial y va cambiando el estado de la aplicación.\n",
    "por cambiar el estado de la aplicación nos referimos a la modificación de de las variable y los objetos de la aplicación.\n",
    "\n",
    "En contraposición a la programación imperativa, la programación funcional no modifica el estado de la aplicación."
   ]
  },
  {
   "cell_type": "markdown",
   "metadata": {},
   "source": [
    "### Ejemplo de programacion funcional vs programación imperativa"
   ]
  },
  {
   "cell_type": "code",
   "execution_count": 2,
   "metadata": {},
   "outputs": [],
   "source": [
    "# Programacion imperativa\n",
    "enteros = [1,2,3,4,5,6]"
   ]
  },
  {
   "cell_type": "code",
   "execution_count": 5,
   "metadata": {},
   "outputs": [
    {
     "name": "stdout",
     "output_type": "stream",
     "text": [
      "[2, 4, 6]\n"
     ]
    }
   ],
   "source": [
    "'''\n",
    "lista los números pares de la lista enteros\n",
    "'''\n",
    "lista_pares = []\n",
    "for a in enteros:\n",
    "    if a%2 == 0:\n",
    "        lista_pares.append(a)\n",
    "        \n",
    "print(lista_pares)"
   ]
  },
  {
   "cell_type": "code",
   "execution_count": 7,
   "metadata": {},
   "outputs": [
    {
     "name": "stdout",
     "output_type": "stream",
     "text": [
      "[4, 16, 36]\n"
     ]
    }
   ],
   "source": [
    "'''\n",
    "eleva al cuadrado los números de la lista pares\n",
    "'''\n",
    "cuadrado_de_pares = []\n",
    "for a in lista_pares:\n",
    "    cuadrado_de_pares.append(a**2)\n",
    "    \n",
    "print(cuadrado_de_pares)"
   ]
  },
  {
   "cell_type": "code",
   "execution_count": 8,
   "metadata": {},
   "outputs": [
    {
     "name": "stdout",
     "output_type": "stream",
     "text": [
      "56\n"
     ]
    }
   ],
   "source": [
    "'''\n",
    "suma todos los números de la lista cuadrados\n",
    "'''\n",
    "suma = 0\n",
    "for a in cuadrado_de_pares:\n",
    "    suma += a\n",
    "print(suma)"
   ]
  },
  {
   "cell_type": "markdown",
   "metadata": {},
   "source": [
    "Como podemos ver en el ejemplo anterior, mediante programación imperativa vamos creando una serie de variables, modificando su estado y obteniendo un resultado.\n",
    "Ahora vamos a hacer lo mismo con programación funcional."
   ]
  },
  {
   "cell_type": "code",
   "execution_count": 9,
   "metadata": {},
   "outputs": [],
   "source": [
    "# Programacion funcional\n",
    "enteros = [1,2,3,4,5,6]"
   ]
  },
  {
   "cell_type": "code",
   "execution_count": 17,
   "metadata": {},
   "outputs": [
    {
     "name": "stdout",
     "output_type": "stream",
     "text": [
      "[2, 4, 6]\n"
     ]
    }
   ],
   "source": [
    "'''\n",
    "lista los números pares de la lista enteros\n",
    "'''\n",
    "numeros_pares = list(filter(lambda numero: numero % 2 == 0, enteros))\n",
    "\n",
    "print(numeros_pares)"
   ]
  },
  {
   "cell_type": "code",
   "execution_count": 18,
   "metadata": {},
   "outputs": [
    {
     "name": "stdout",
     "output_type": "stream",
     "text": [
      "[4, 16, 36]\n"
     ]
    }
   ],
   "source": [
    "'''\n",
    "eleva al cuadrado los números de la lista pares\n",
    "'''\n",
    "cuadrados_de_pares = list(map(lambda numero: numero ** 2, numeros_pares))\n",
    "\n",
    "print(cuadrados_de_pares)"
   ]
  },
  {
   "cell_type": "code",
   "execution_count": 25,
   "metadata": {},
   "outputs": [
    {
     "name": "stdout",
     "output_type": "stream",
     "text": [
      "56\n"
     ]
    }
   ],
   "source": [
    "'''\n",
    "suma todos los números de la lista cuadrados\n",
    "'''\n",
    "from functools import reduce\n",
    "suma = reduce(lambda sumatorio, num: sumatorio + num, cuadrados_de_pares)\n",
    "print(suma)"
   ]
  },
  {
   "cell_type": "markdown",
   "metadata": {},
   "source": [
    "Qué vamos a ver?\n",
    "- Funciones anonimas (lambda)\n",
    "- Filter\n",
    "- Map\n",
    "- zip\n",
    "- Reduce\n",
    "- partial"
   ]
  },
  {
   "cell_type": "markdown",
   "metadata": {},
   "source": [
    "### Lambda\n",
    "Las expresiones lamda son funciones anónimas."
   ]
  },
  {
   "cell_type": "code",
   "execution_count": 41,
   "metadata": {},
   "outputs": [
    {
     "name": "stdout",
     "output_type": "stream",
     "text": [
      "False\n",
      "True\n",
      "False\n",
      "True\n"
     ]
    },
    {
     "data": {
      "text/plain": [
       "57"
      ]
     },
     "execution_count": 41,
     "metadata": {},
     "output_type": "execute_result"
    }
   ],
   "source": [
    "#Imperativo\n",
    "def es_par(num):\n",
    "    return num%2==0\n",
    "\n",
    "print(es_par(15))\n",
    "print(es_par(22))\n",
    "\n",
    "#Funcional con Lambda\n",
    "'''\n",
    "lambda num: num%2==0\n",
    "        ^      ^\n",
    "    Argumento Cuerpo de la función\n",
    "'''\n",
    "\n",
    "es_par_fun = lambda x: x%2==0\n",
    "\n",
    "print(es_par_fun(3))\n",
    "print(es_par_fun(30))"
   ]
  },
  {
   "cell_type": "code",
   "execution_count": 42,
   "metadata": {},
   "outputs": [
    {
     "data": {
      "text/plain": [
       "57"
      ]
     },
     "execution_count": 42,
     "metadata": {},
     "output_type": "execute_result"
    }
   ],
   "source": [
    "# Suma\n",
    "\n",
    "suma = lambda op1, op2: op1 + op2\n",
    "suma(23,34)"
   ]
  },
  {
   "cell_type": "code",
   "execution_count": 48,
   "metadata": {},
   "outputs": [
    {
     "name": "stdout",
     "output_type": "stream",
     "text": [
      "8\n"
     ]
    }
   ],
   "source": [
    "#Lambda sin argumentos\n",
    "import random\n",
    "\n",
    "numero_aleatorio = lambda: random.randrange(10)\n",
    "print(numero_aleatorio())"
   ]
  },
  {
   "cell_type": "code",
   "execution_count": 51,
   "metadata": {},
   "outputs": [
    {
     "name": "stdout",
     "output_type": "stream",
     "text": [
      "[1, 4, 9, 16]\n"
     ]
    }
   ],
   "source": [
    "#Elevar al cuadrado\n",
    "elevar_al_cuadrado = lambda *args: [ num ** 2 for num in args]\n",
    "print(elevar_al_cuadrado(1,2,3,4))"
   ]
  },
  {
   "cell_type": "code",
   "execution_count": 52,
   "metadata": {},
   "outputs": [
    {
     "ename": "SyntaxError",
     "evalue": "invalid syntax (3027053496.py, line 11)",
     "output_type": "error",
     "traceback": [
      "\u001b[0;36m  Input \u001b[0;32mIn [52]\u001b[0;36m\u001b[0m\n\u001b[0;31m    numeros_al_cuadrado[ num**2 for n in valores ]\u001b[0m\n\u001b[0m                                ^\u001b[0m\n\u001b[0;31mSyntaxError\u001b[0m\u001b[0;31m:\u001b[0m invalid syntax\n"
     ]
    }
   ],
   "source": [
    "# Lista de comprensión (Comprehension lists)\n",
    "# Programación Imperativa\n",
    "valores = [1,2,3,4,5]\n",
    "numeros_al_cuadrado = [] \n",
    "\n",
    "for num in valores:\n",
    "    numeros_al_cuadrado.append(num**2)\n",
    "    \n",
    "\n",
    "# Programación Funcional\n",
    "numeros_al_cuadrado[ num**2 for n in valores ]\n",
    "\n",
    "\n",
    "print(numeros_al_cuadrado)"
   ]
  },
  {
   "cell_type": "code",
   "execution_count": 54,
   "metadata": {},
   "outputs": [
    {
     "name": "stdout",
     "output_type": "stream",
     "text": [
      "[2, 4]\n",
      "[2, 4]\n"
     ]
    }
   ],
   "source": [
    "# Lista de comprensión (Comprehension lists)\n",
    "# Programación Imperativa\n",
    "valores = [1,2,3,4,5]\n",
    "numeros_pares = [] \n",
    "\n",
    "for num in valores:\n",
    "    if num%2 == 0:\n",
    "        numeros_pares.append(num)\n",
    "\n",
    "print(numeros_pares)\n",
    "\n",
    "    \n",
    "# Programación Funcional\n",
    "# [] - Lista\n",
    "# tuple(lista) - Generas la tupla\n",
    "# () - Generador para pedir next de cada uno\n",
    "# {} - Para convertirlo a SET\n",
    "numeros_pares = [ num for num in valores if num%2 == 0 ]\n",
    "\n",
    "\n",
    "print(numeros_pares)\n"
   ]
  },
  {
   "cell_type": "code",
   "execution_count": 58,
   "metadata": {},
   "outputs": [
    {
     "name": "stdout",
     "output_type": "stream",
     "text": [
      "[0, 2, 0, 4, 0]\n",
      "[0, 2, 0, 4, 0]\n"
     ]
    }
   ],
   "source": [
    "# Lista de comprensión (Comprehension lists)\n",
    "# Programación Imperativa\n",
    "valores = [1,2,3,4,5]\n",
    "numeros_pares = [] \n",
    "\n",
    "for num in valores:\n",
    "    if num%2 == 0:\n",
    "        numeros_pares.append(num)\n",
    "    else:\n",
    "        numeros_pares.append(0)\n",
    "    \n",
    "\n",
    "print(numeros_pares)\n",
    "\n",
    "    \n",
    "# Programación Funcional\n",
    "numeros_pares = [ num if num%2 == 0 else 0 for num in valores ]\n",
    "\n",
    "\n",
    "print(numeros_pares)\n"
   ]
  },
  {
   "cell_type": "code",
   "execution_count": null,
   "metadata": {},
   "outputs": [],
   "source": []
  },
  {
   "cell_type": "code",
   "execution_count": 39,
   "metadata": {},
   "outputs": [
    {
     "name": "stdout",
     "output_type": "stream",
     "text": [
      "Doña. Pepa\n"
     ]
    }
   ],
   "source": [
    "# Capitalizar un nombre\n",
    "# Añadir Sr al principio\n",
    "\n",
    "capitalize = lambda name: name[0].upper() + name[1:]\n",
    "addFormal = lambda name : 'Doña. ' + name\n",
    "greetings = lambda name: addFormal(capitalize(name))\n",
    "\n",
    "print(greetings('pepa'))"
   ]
  },
  {
   "cell_type": "markdown",
   "metadata": {},
   "source": [
    "### filter"
   ]
  },
  {
   "cell_type": "code",
   "execution_count": 68,
   "metadata": {},
   "outputs": [
    {
     "name": "stdout",
     "output_type": "stream",
     "text": [
      "[2, 4, 6, 8, 10, 12]\n",
      "[('a', 2)]\n",
      "[2]\n"
     ]
    }
   ],
   "source": [
    "# Filtra los elementos de una lista\n",
    "# filter( funcion_booleana, lista )\n",
    "\n",
    "es_par = lambda x: x%2 == 0\n",
    "\n",
    "numeros_pares = list(filter(es_par, [1,2,3,4,5,6,7,8,9,10,11,12]))\n",
    "\n",
    "print(numeros_pares)\n",
    "\n",
    "\n",
    "diccionario = {'a' : 2 , 'b' : 1, 'c' : 3}\n",
    "es_par_dict = lambda item: es_par(item[1])\n",
    "numeros_pares = list(filter( es_par_dict, diccionario.items()))\n",
    "print(numeros_pares)\n",
    "\n",
    "\n",
    "\n",
    "diccionario = {'a' : 2 , 'b' : 1, 'c' : 3}\n",
    "es_par_dict = lambda v: es_par(v)\n",
    "numeros_pares = list(filter( es_par_dict, diccionario.values()))\n",
    "print(numeros_pares)"
   ]
  },
  {
   "cell_type": "code",
   "execution_count": null,
   "metadata": {},
   "outputs": [],
   "source": [
    "'''\n",
    "filtra los números mayores a 40 y menores a 60 de la lista enteros\n",
    "'''\n"
   ]
  },
  {
   "cell_type": "markdown",
   "metadata": {},
   "source": [
    "Como hemos visto anteriormente podemos indicar una función lambda para filtrar una lista de elementos."
   ]
  },
  {
   "cell_type": "code",
   "execution_count": 73,
   "metadata": {},
   "outputs": [
    {
     "name": "stdout",
     "output_type": "stream",
     "text": [
      "30\n"
     ]
    },
    {
     "ename": "TypeError",
     "evalue": "'>' not supported between instances of 'str' and 'int'",
     "output_type": "error",
     "traceback": [
      "\u001b[0;31m---------------------------------------------------------------------------\u001b[0m",
      "\u001b[0;31mTypeError\u001b[0m                                 Traceback (most recent call last)",
      "Input \u001b[0;32mIn [73]\u001b[0m, in \u001b[0;36m<cell line: 25>\u001b[0;34m()\u001b[0m\n\u001b[1;32m      8\u001b[0m \u001b[38;5;124;03m'''\u001b[39;00m\n\u001b[1;32m      9\u001b[0m \u001b[38;5;124;03mahora filtra una lista de usuarios que tengan una edad mayor a 18\u001b[39;00m\n\u001b[1;32m     10\u001b[0m \u001b[38;5;124;03m'''\u001b[39;00m\n\u001b[1;32m     11\u001b[0m usuarios \u001b[38;5;241m=\u001b[39m [ \n\u001b[1;32m     12\u001b[0m     {\u001b[38;5;124m'\u001b[39m\u001b[38;5;124mnombre\u001b[39m\u001b[38;5;124m'\u001b[39m: \u001b[38;5;124m'\u001b[39m\u001b[38;5;124mJuan\u001b[39m\u001b[38;5;124m'\u001b[39m, \u001b[38;5;124m'\u001b[39m\u001b[38;5;124mnacimiento\u001b[39m\u001b[38;5;124m'\u001b[39m: \u001b[38;5;241m2017\u001b[39m},\n\u001b[1;32m     13\u001b[0m     {\u001b[38;5;124m'\u001b[39m\u001b[38;5;124mnombre\u001b[39m\u001b[38;5;124m'\u001b[39m: \u001b[38;5;124m'\u001b[39m\u001b[38;5;124mPedro\u001b[39m\u001b[38;5;124m'\u001b[39m, \u001b[38;5;124m'\u001b[39m\u001b[38;5;124mnacimiento\u001b[39m\u001b[38;5;124m'\u001b[39m: \u001b[38;5;241m2018\u001b[39m},\n\u001b[0;32m   (...)\u001b[0m\n\u001b[1;32m     20\u001b[0m     {\u001b[38;5;124m'\u001b[39m\u001b[38;5;124mnombre\u001b[39m\u001b[38;5;124m'\u001b[39m: \u001b[38;5;124m'\u001b[39m\u001b[38;5;124mPilar\u001b[39m\u001b[38;5;124m'\u001b[39m, \u001b[38;5;124m'\u001b[39m\u001b[38;5;124mnacimiento\u001b[39m\u001b[38;5;124m'\u001b[39m: \u001b[38;5;241m2010\u001b[39m},\n\u001b[1;32m     21\u001b[0m     ]\n\u001b[0;32m---> 25\u001b[0m mayores_18 \u001b[38;5;241m=\u001b[39m \u001b[38;5;28;43mlist\u001b[39;49m\u001b[43m(\u001b[49m\u001b[38;5;28;43mfilter\u001b[39;49m\u001b[43m(\u001b[49m\u001b[43m \u001b[49m\u001b[38;5;28;43;01mlambda\u001b[39;49;00m\u001b[43m \u001b[49m\u001b[43mv\u001b[49m\u001b[43m:\u001b[49m\u001b[43m \u001b[49m\u001b[43mv\u001b[49m\u001b[43m[\u001b[49m\u001b[38;5;241;43m1\u001b[39;49m\u001b[43m]\u001b[49m\u001b[38;5;241;43m>\u001b[39;49m\u001b[38;5;241;43m2022\u001b[39;49m\u001b[38;5;241;43m-\u001b[39;49m\u001b[38;5;241;43m18\u001b[39;49m\u001b[43m,\u001b[49m\u001b[43m \u001b[49m\u001b[43musuarios\u001b[49m\u001b[43m[\u001b[49m\u001b[38;5;241;43m1\u001b[39;49m\u001b[43m]\u001b[49m\u001b[43m)\u001b[49m\u001b[43m)\u001b[49m\n\u001b[1;32m     26\u001b[0m \u001b[38;5;28mprint\u001b[39m(mayores_18)\n",
      "Input \u001b[0;32mIn [73]\u001b[0m, in \u001b[0;36m<lambda>\u001b[0;34m(v)\u001b[0m\n\u001b[1;32m      8\u001b[0m \u001b[38;5;124;03m'''\u001b[39;00m\n\u001b[1;32m      9\u001b[0m \u001b[38;5;124;03mahora filtra una lista de usuarios que tengan una edad mayor a 18\u001b[39;00m\n\u001b[1;32m     10\u001b[0m \u001b[38;5;124;03m'''\u001b[39;00m\n\u001b[1;32m     11\u001b[0m usuarios \u001b[38;5;241m=\u001b[39m [ \n\u001b[1;32m     12\u001b[0m     {\u001b[38;5;124m'\u001b[39m\u001b[38;5;124mnombre\u001b[39m\u001b[38;5;124m'\u001b[39m: \u001b[38;5;124m'\u001b[39m\u001b[38;5;124mJuan\u001b[39m\u001b[38;5;124m'\u001b[39m, \u001b[38;5;124m'\u001b[39m\u001b[38;5;124mnacimiento\u001b[39m\u001b[38;5;124m'\u001b[39m: \u001b[38;5;241m2017\u001b[39m},\n\u001b[1;32m     13\u001b[0m     {\u001b[38;5;124m'\u001b[39m\u001b[38;5;124mnombre\u001b[39m\u001b[38;5;124m'\u001b[39m: \u001b[38;5;124m'\u001b[39m\u001b[38;5;124mPedro\u001b[39m\u001b[38;5;124m'\u001b[39m, \u001b[38;5;124m'\u001b[39m\u001b[38;5;124mnacimiento\u001b[39m\u001b[38;5;124m'\u001b[39m: \u001b[38;5;241m2018\u001b[39m},\n\u001b[0;32m   (...)\u001b[0m\n\u001b[1;32m     20\u001b[0m     {\u001b[38;5;124m'\u001b[39m\u001b[38;5;124mnombre\u001b[39m\u001b[38;5;124m'\u001b[39m: \u001b[38;5;124m'\u001b[39m\u001b[38;5;124mPilar\u001b[39m\u001b[38;5;124m'\u001b[39m, \u001b[38;5;124m'\u001b[39m\u001b[38;5;124mnacimiento\u001b[39m\u001b[38;5;124m'\u001b[39m: \u001b[38;5;241m2010\u001b[39m},\n\u001b[1;32m     21\u001b[0m     ]\n\u001b[0;32m---> 25\u001b[0m mayores_18 \u001b[38;5;241m=\u001b[39m \u001b[38;5;28mlist\u001b[39m(\u001b[38;5;28mfilter\u001b[39m( \u001b[38;5;28;01mlambda\u001b[39;00m v: \u001b[43mv\u001b[49m\u001b[43m[\u001b[49m\u001b[38;5;241;43m1\u001b[39;49m\u001b[43m]\u001b[49m\u001b[38;5;241;43m>\u001b[39;49m\u001b[38;5;241;43m2022\u001b[39;49m\u001b[38;5;241;43m-\u001b[39;49m\u001b[38;5;241;43m18\u001b[39;49m, usuarios[\u001b[38;5;241m1\u001b[39m]))\n\u001b[1;32m     26\u001b[0m \u001b[38;5;28mprint\u001b[39m(mayores_18)\n",
      "\u001b[0;31mTypeError\u001b[0m: '>' not supported between instances of 'str' and 'int'"
     ]
    }
   ],
   "source": [
    "'''\n",
    "crea una función lambda que reciba un año de nacimiento y devuelva la edad actual\n",
    "'''\n",
    "edad = lambda x: 2022 - x\n",
    "\n",
    "print(edad(1992))\n",
    "\n",
    "'''\n",
    "ahora filtra una lista de usuarios que tengan una edad mayor a 18\n",
    "'''\n",
    "usuarios = [ \n",
    "    {'nombre': 'Juan', 'nacimiento': 2017},\n",
    "    {'nombre': 'Pedro', 'nacimiento': 2018},\n",
    "    {'nombre': 'Maria', 'nacimiento': 1980},\n",
    "    {'nombre': 'Juana', 'nacimiento': 1995},\n",
    "    {'nombre': 'Jorge', 'nacimiento': 1985},\n",
    "    {'nombre': 'Pablo', 'nacimiento': 1990},\n",
    "    {'nombre': 'Clara', 'nacimiento': 1995},\n",
    "    {'nombre': 'Bea', 'nacimiento': 2019},\n",
    "    {'nombre': 'Pilar', 'nacimiento': 2010},\n",
    "    ]\n",
    "\n",
    "\n",
    "\n",
    "mayores_18 = list(filter( lambda v: v[1]>2022-18, usuarios[1]))\n",
    "print(mayores_18)\n"
   ]
  },
  {
   "cell_type": "code",
   "execution_count": null,
   "metadata": {},
   "outputs": [],
   "source": [
    "'''\n",
    "Filtra las cadenas de la lista que tengan una longitud mayor a 5\n",
    "'''"
   ]
  },
  {
   "cell_type": "code",
   "execution_count": null,
   "metadata": {},
   "outputs": [],
   "source": [
    "'''\n",
    "filtra las cadenas de la lista que tengan una longitud mayor al número indicado en el argumento\n",
    "'''"
   ]
  },
  {
   "cell_type": "markdown",
   "metadata": {},
   "source": [
    "### map"
   ]
  },
  {
   "cell_type": "code",
   "execution_count": 79,
   "metadata": {},
   "outputs": [
    {
     "name": "stdout",
     "output_type": "stream",
     "text": [
      "[1, 4, 9, 16, 25, 36, 49, 64, 81, 100]\n",
      "[2, 4, 6, 8, 10]\n"
     ]
    }
   ],
   "source": [
    "# map ( funcion , iterable)\n",
    "# Aplica a cada elemento del iterable la función dada\n",
    "\n",
    "numeros = [1,2,3,4,5,6,7,8,9,10]\n",
    "cuadrado = lambda x: x**2\n",
    "\n",
    "elevar_al_cuadrado = map(cuadrado, numeros)\n",
    "print(list(elevar_al_cuadrado))\n",
    "\n",
    "#Funcion map con varios iterables\n",
    "\n",
    "suma = lambda x,y: x+y\n",
    "\n",
    "suma_listas = map(suma, [1,2,3,4,5], [1,2,3,4,5])\n",
    "print(list(suma_listas))"
   ]
  },
  {
   "cell_type": "code",
   "execution_count": 82,
   "metadata": {},
   "outputs": [
    {
     "name": "stdout",
     "output_type": "stream",
     "text": [
      "['Hola Juan', 'Hola Pedro']\n"
     ]
    }
   ],
   "source": [
    "'''\n",
    "Crea un función que reciba una lista de nombres y añada 'Hola' seguido de cada nombre.\n",
    "'''\n",
    "nombres = ['Juan', 'Pedro']\n",
    "\n",
    "saludo = lambda nombre: 'Hola ' + nombre\n",
    "saludos = map(saludo, nombres)\n",
    "\n",
    "print(list(saludos))"
   ]
  },
  {
   "cell_type": "code",
   "execution_count": 83,
   "metadata": {},
   "outputs": [
    {
     "name": "stdout",
     "output_type": "stream",
     "text": [
      "[1, 2, 3]\n"
     ]
    }
   ],
   "source": [
    "'''\n",
    "Crea una función que reciba una lista de valores decimales y que devuelva una lista con los valores convertidos a enteros.\n",
    "'''\n",
    "valores = [1.1, 2.2, 3.3]\n",
    "entero = lambda x: int(x)\n",
    "lista_enteros = list(map(entero, valores))\n",
    "print(lista_enteros)\n"
   ]
  },
  {
   "cell_type": "markdown",
   "metadata": {},
   "source": [
    "### zip"
   ]
  },
  {
   "cell_type": "code",
   "execution_count": 102,
   "metadata": {},
   "outputs": [
    {
     "name": "stdout",
     "output_type": "stream",
     "text": [
      "['Pepe ha obtenido un 4', 'Juana ha obtenido un 7', 'Lucía ha obtenido un 10']\n",
      "['Pepe ha obtenido un 4', 'Juana ha obtenido un 7', 'Lucía ha obtenido un 10']\n"
     ]
    }
   ],
   "source": [
    "zippp = zip([1,2,3,4,5,6,7,8,9],[10,11,12,13,14,15,16,17,18])\n",
    "#print(list(zippp))\n",
    "\n",
    "alumnos = ['Pepe', 'Juana', 'Lucía']\n",
    "notas = [4, 7, 10]\n",
    "\n",
    "\n",
    "#Imperativa\n",
    "#notas_clase = zip(alumnos, notas)\n",
    "#for elemento in notas_clase:\n",
    "#    print(elemento)\n",
    "\n",
    "#for nombre, nota in notas_clase:\n",
    "#    print(\"Nombre: \",nombre, \"Nota: \", nota)\n",
    "    \n",
    "    \n",
    "#Funcional\n",
    "resultado_calificacion = lambda resultado: f'{resultado[0]} ha obtenido un {resultado[1]}'\n",
    "lista_notas = list(map(resultado_calificacion, zip(alumnos, notas)))\n",
    "print(lista_notas)\n",
    "\n",
    "\n",
    "#Lo mismo sin zip\n",
    "resultado_calificacion = lambda alumno, nota: f'{alumno} ha obtenido un {nota}'\n",
    "lista_notas = list(map(resultado_calificacion, alumnos, notas))\n",
    "print(lista_notas)\n"
   ]
  },
  {
   "cell_type": "markdown",
   "metadata": {},
   "source": [
    "### reduce"
   ]
  },
  {
   "cell_type": "markdown",
   "metadata": {},
   "source": [
    "Aplica una función a un iterable y tiene un valor por defecto (0)\n",
    "reduce( funcion, iterable, default=0 (acumulador))\n",
    "\n",
    "\n",
    "Recorre toda la lista SI O SI"
   ]
  },
  {
   "cell_type": "code",
   "execution_count": 108,
   "metadata": {},
   "outputs": [
    {
     "name": "stdout",
     "output_type": "stream",
     "text": [
      "15\n"
     ]
    },
    {
     "data": {
      "text/plain": [
       "'\\nacum = 5 (o el valor que se especifique)\\nsuma(acumulador, 1)\\nacum = 6\\nsuma(acumulador, 2)\\nacum = 8\\nsuma(acumulador, 3)\\nacum = 11\\nsuma(acumulador, 4)\\nacum = 15\\n'"
      ]
     },
     "execution_count": 108,
     "metadata": {},
     "output_type": "execute_result"
    }
   ],
   "source": [
    "from functools import reduce\n",
    "# Suma todos los elementos de una lista\n",
    "suma = lambda acumulador, valor: acumulador + valor\n",
    "\n",
    "suma_valores = reduce(suma, [1,2,3,4], 5)\n",
    "print(suma_valores)\n",
    "\n",
    "'''\n",
    "acum = 5 (o el valor que se especifique)\n",
    "suma(acumulador, 1)\n",
    "acum = 6\n",
    "suma(acumulador, 2)\n",
    "acum = 8\n",
    "suma(acumulador, 3)\n",
    "acum = 11\n",
    "suma(acumulador, 4)\n",
    "acum = 15\n",
    "'''"
   ]
  },
  {
   "cell_type": "code",
   "execution_count": 107,
   "metadata": {},
   "outputs": [
    {
     "name": "stdout",
     "output_type": "stream",
     "text": [
      "JuanPedro\n"
     ]
    }
   ],
   "source": [
    "alumnos = ['Juan', 'Pedro']\n",
    "'-'.join(alumnos)\n",
    "\n",
    "#lambda\n",
    "une_nombres = lambda acumulador, nombre: acumulador+nombre\n",
    "print(reduce(une_nombres, alumnos))"
   ]
  },
  {
   "cell_type": "code",
   "execution_count": 110,
   "metadata": {},
   "outputs": [
    {
     "data": {
      "text/plain": [
       "55"
      ]
     },
     "execution_count": 110,
     "metadata": {},
     "output_type": "execute_result"
    }
   ],
   "source": [
    "from functools import reduce\n",
    "'''\n",
    "Dada una lista de numeros, devuelve el valor del numero mayor. Utilizando reduce\n",
    "'''\n",
    "\n",
    "maximo = lambda valores : reduce( lambda x, y: x if x > y else y, valores)\n",
    "maximo([1, 34, 6, 23, 55, 2, 13])"
   ]
  },
  {
   "cell_type": "code",
   "execution_count": 114,
   "metadata": {},
   "outputs": [
    {
     "name": "stdout",
     "output_type": "stream",
     "text": [
      "False\n"
     ]
    }
   ],
   "source": [
    "from functools import reduce\n",
    "'''\n",
    "dado un array de booleanos, comprueba si todos los elementos son true\n",
    "'''\n",
    "\n",
    "booleanos = [True, False, True]\n",
    "#todos_true = reduce( lambda x, y: x and y, booleanos)\n",
    "todos_true = lambda valores: reduce( lambda x, y: x and y, valores)\n",
    "print(todos_true(booleanos))"
   ]
  },
  {
   "cell_type": "code",
   "execution_count": 122,
   "metadata": {},
   "outputs": [
    {
     "name": "stdout",
     "output_type": "stream",
     "text": [
      "5\n"
     ]
    }
   ],
   "source": [
    "from functools import reduce\n",
    "\n",
    "'''\n",
    "Cuenta el número de elementos de un iterable que cumplan una condición.\n",
    "'''\n",
    "\n",
    "notas = [3, 5, 9, 0]\n",
    "aprobado = lambda x: 1 if (x >= 5) else 0\n",
    "cuantos_aprobados = reduce( lambda x, y: x+aprobado(y), notas)\n",
    "print(cuantos_aprobados)"
   ]
  },
  {
   "cell_type": "markdown",
   "metadata": {},
   "source": [
    "### partial (Currificar en JS)"
   ]
  },
  {
   "cell_type": "code",
   "execution_count": 126,
   "metadata": {},
   "outputs": [
    {
     "name": "stdout",
     "output_type": "stream",
     "text": [
      "[11, 4, 13, 6, 15, 8, 17, 10, 19, 12]\n"
     ]
    }
   ],
   "source": [
    "from functools import partial\n",
    "\n",
    "'''\n",
    "Dada una lista de números, si es par suma 2, si es impar suma 10\n",
    "'''\n",
    "lista_numeros = [1,2,3,4,5,6,7,8,9,10]\n",
    "\n",
    "suma = lambda x,y: x+y\n",
    "suma_2 = partial(suma, 2)\n",
    "suma_10 = partial(suma, 10)\n",
    "#suma_10 = partial(suma, y=10) #posicional\n",
    "\n",
    "\n",
    "print(list(map( lambda x: suma_2(x) if x%2==0 else suma_10(x), lista_numeros)))\n"
   ]
  },
  {
   "cell_type": "markdown",
   "metadata": {},
   "source": [
    "## Ejercicios:"
   ]
  },
  {
   "cell_type": "code",
   "execution_count": null,
   "metadata": {},
   "outputs": [],
   "source": [
    "# 1. Data una lista de cadenas obtener una lista de cadenas en mayúsculas"
   ]
  },
  {
   "cell_type": "code",
   "execution_count": null,
   "metadata": {},
   "outputs": [],
   "source": [
    "# 2. Dada una lista de alumnos con sus calificaciones, obtener una lista con el nombre de los que han obtenido una calificación media mayor a 7"
   ]
  },
  {
   "cell_type": "code",
   "execution_count": null,
   "metadata": {},
   "outputs": [],
   "source": [
    "# 3. Dada una lista de palabras, obtener una lista con las palabras que son palíndromos\n",
    "# palíndromo: una palabra que se lee de izquierda a derecha igual que de derecha a izquierda"
   ]
  },
  {
   "cell_type": "code",
   "execution_count": 14,
   "metadata": {},
   "outputs": [
    {
     "name": "stdout",
     "output_type": "stream",
     "text": [
      "[1, 4, 9, 16, 25, 36, 49, 64, 81, 100]\n"
     ]
    }
   ],
   "source": [
    "# 4. Define una función que dado un valor genere una lista con los números desde 1 hasta ese valor elevados al cuadrado"
   ]
  },
  {
   "cell_type": "code",
   "execution_count": 16,
   "metadata": {},
   "outputs": [],
   "source": [
    "# 5. Define una función que si no recibe un valor devuelva 'desconocido'"
   ]
  }
 ],
 "metadata": {
  "interpreter": {
   "hash": "916dbcbb3f70747c44a77c7bcd40155683ae19c65e1c03b4aa3499c5328201f1"
  },
  "kernelspec": {
   "display_name": "Python 3 (ipykernel)",
   "language": "python",
   "name": "python3"
  },
  "language_info": {
   "codemirror_mode": {
    "name": "ipython",
    "version": 3
   },
   "file_extension": ".py",
   "mimetype": "text/x-python",
   "name": "python",
   "nbconvert_exporter": "python",
   "pygments_lexer": "ipython3",
   "version": "3.9.12"
  }
 },
 "nbformat": 4,
 "nbformat_minor": 2
}

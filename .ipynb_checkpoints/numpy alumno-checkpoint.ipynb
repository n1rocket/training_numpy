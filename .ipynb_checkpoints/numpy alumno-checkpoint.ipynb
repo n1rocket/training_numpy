{
 "cells": [
  {
   "cell_type": "markdown",
   "metadata": {},
   "source": [
    "# Python numpy"
   ]
  },
  {
   "cell_type": "code",
   "execution_count": 1,
   "metadata": {},
   "outputs": [
    {
     "name": "stdout",
     "output_type": "stream",
     "text": [
      "[1 2 3 4 5]\n"
     ]
    }
   ],
   "source": [
    "'''\n",
    "Lo primero es comprobar que tenemos instalado nmumpy y que lo podemos importar correctamente.\n",
    "La ejecución de este bloque de código nos debe mostrar el array [1,2,3,4,5]\n",
    "'''\n",
    "import numpy as np\n",
    "\n",
    "# Definición de un nuevo 'ndarray', de ahora en adelante lo llamaremos simplemente 'array'\n",
    "test = np.array([1, 2, 3, 4, 5])\n",
    "print(test)"
   ]
  },
  {
   "cell_type": "code",
   "execution_count": 12,
   "metadata": {},
   "outputs": [
    {
     "data": {
      "text/plain": [
       "[1, 2, 3, 4, 5, 'a', 'b', 'c']"
      ]
     },
     "execution_count": 12,
     "metadata": {},
     "output_type": "execute_result"
    }
   ],
   "source": [
    "# Array de Python\n",
    "array1 = [1,2,3,4,5]\n",
    "array2 = ['a', 'b', 'c']\n",
    "\n",
    "array1 + array2"
   ]
  },
  {
   "cell_type": "markdown",
   "metadata": {},
   "source": [
    "### Primeros pasos NumPy"
   ]
  },
  {
   "cell_type": "code",
   "execution_count": 17,
   "metadata": {},
   "outputs": [
    {
     "name": "stdout",
     "output_type": "stream",
     "text": [
      "[1 2 3 4 5 6]\n"
     ]
    },
    {
     "data": {
      "text/plain": [
       "numpy.ndarray"
      ]
     },
     "execution_count": 17,
     "metadata": {},
     "output_type": "execute_result"
    }
   ],
   "source": [
    "a = np.array([1, 2, 3, 4, 5, 6])\n",
    "print(a)\n",
    "type(a)"
   ]
  },
  {
   "cell_type": "code",
   "execution_count": 9,
   "metadata": {},
   "outputs": [
    {
     "name": "stdout",
     "output_type": "stream",
     "text": [
      "['a' 'b' 'c']\n"
     ]
    }
   ],
   "source": [
    "b = np.array(['a', 'b', 'c'])\n",
    "print(b)"
   ]
  },
  {
   "cell_type": "code",
   "execution_count": 19,
   "metadata": {},
   "outputs": [
    {
     "name": "stdout",
     "output_type": "stream",
     "text": [
      "[[1 2 3 4]\n",
      " [5 6 7 8]]\n"
     ]
    }
   ],
   "source": [
    "#[row, column]\n",
    "c = np.array([[1,2,3,4],\n",
    "             [5,6,7,8]])\n",
    "print(c)"
   ]
  },
  {
   "cell_type": "code",
   "execution_count": 22,
   "metadata": {},
   "outputs": [
    {
     "name": "stdout",
     "output_type": "stream",
     "text": [
      "[[1 2]\n",
      " [3 4]\n",
      " [5 6]\n",
      " [7 8]]\n"
     ]
    },
    {
     "data": {
      "text/plain": [
       "4"
      ]
     },
     "execution_count": 22,
     "metadata": {},
     "output_type": "execute_result"
    }
   ],
   "source": [
    "d = np.array([[1,2],\n",
    "              [3,4],\n",
    "             [5,6],\n",
    "             [7,8]])\n",
    "print(d)\n",
    "len(d)"
   ]
  },
  {
   "cell_type": "markdown",
   "metadata": {},
   "source": [
    "### Ejercicios"
   ]
  },
  {
   "cell_type": "code",
   "execution_count": 16,
   "metadata": {},
   "outputs": [
    {
     "name": "stdout",
     "output_type": "stream",
     "text": [
      "[ 1  2  3  4  5  6  7  8  9 10]\n",
      "(10,)\n"
     ]
    }
   ],
   "source": [
    "'''\n",
    "Define el array 'a' del 1 al 10\n",
    "'''\n",
    "a = np.array([1, 2, 3, 4, 5, 6, 7, 8, 9, 10])\n",
    "\n",
    "'''\n",
    "Imprime la dimension del array y el shape\n",
    "'''\n",
    "print(a)\n",
    "print(a.shape)"
   ]
  },
  {
   "cell_type": "code",
   "execution_count": 41,
   "metadata": {},
   "outputs": [
    {
     "name": "stdout",
     "output_type": "stream",
     "text": [
      "[[1 2]\n",
      " [3 4]\n",
      " [5 6]]\n",
      "Shape (3, 2)\n",
      "Dim 2\n"
     ]
    }
   ],
   "source": [
    "''' \n",
    "ARRAY 2D\n",
    "Define de un array 'b' de dimensiones 2x3 a partir de listas anidadas\n",
    "'''\n",
    "b = np.array([[1,2], [3,4], [5,6]])\n",
    "print(b)\n",
    "print('Shape', b.shape)\n",
    "print('Dim', b.ndim)"
   ]
  },
  {
   "cell_type": "code",
   "execution_count": 39,
   "metadata": {},
   "outputs": [
    {
     "name": "stdout",
     "output_type": "stream",
     "text": [
      "[[[1 2]\n",
      "  [3 4]]\n",
      "\n",
      " [[5 6]\n",
      "  [7 8]]]\n",
      "Shape (2, 2, 2)\n",
      "Dim 3\n"
     ]
    }
   ],
   "source": [
    "'''\n",
    "ARRAY 3D\n",
    "Define un array 'c'  de dim 2x2x2 a partir de una lista de listas anidadas \n",
    "'''\n",
    "c1 = np.array([\n",
    "                [[1,2],[3,4]],\n",
    "              [[5,6],[7,8]]\n",
    "            ])\n",
    "'''\n",
    "Imprime el número total de elementos del array y el shape\n",
    "'''\n",
    "print(c1)\n",
    "print('Shape', c1.shape)\n",
    "print('Dim', c1.ndim)"
   ]
  },
  {
   "cell_type": "code",
   "execution_count": 40,
   "metadata": {},
   "outputs": [
    {
     "name": "stdout",
     "output_type": "stream",
     "text": [
      "[[[ 1  2  3]\n",
      "  [ 4  5  6]]\n",
      "\n",
      " [[ 7  8  9]\n",
      "  [10 11 12]]]\n",
      "Shape (2, 2, 3)\n",
      "Dim 3\n"
     ]
    }
   ],
   "source": [
    "'''\n",
    "ARRAY 3D\n",
    "Define un array 'c'  de dim 2x2x3 a partir de una lista de listas anidadas \n",
    "'''\n",
    "c2 = np.array([\n",
    "                [[1,2,3],[4,5,6]],\n",
    "              [[7,8,9],[10,11,12]]\n",
    "            ])\n",
    "'''\n",
    "Imprime el número total de elementos del array y el shape\n",
    "'''\n",
    "print(c2)\n",
    "print('Shape', c2.shape)\n",
    "print('Dim', c2.ndim)"
   ]
  },
  {
   "cell_type": "code",
   "execution_count": 46,
   "metadata": {},
   "outputs": [
    {
     "name": "stdout",
     "output_type": "stream",
     "text": [
      "int64\n"
     ]
    }
   ],
   "source": [
    "print(a.dtype)"
   ]
  },
  {
   "cell_type": "code",
   "execution_count": 51,
   "metadata": {},
   "outputs": [
    {
     "name": "stdout",
     "output_type": "stream",
     "text": [
      "int16\n",
      "2\n"
     ]
    }
   ],
   "source": [
    "a = np.array([1,2,3,4,5,6], dtype=np.int16)\n",
    "print(a.dtype)\n",
    "print(a.itemsize)"
   ]
  },
  {
   "cell_type": "code",
   "execution_count": 52,
   "metadata": {},
   "outputs": [
    {
     "name": "stdout",
     "output_type": "stream",
     "text": [
      "6\n"
     ]
    }
   ],
   "source": [
    "# Saber el número de elementos de un array\n",
    "print(a.size)"
   ]
  },
  {
   "cell_type": "markdown",
   "metadata": {},
   "source": [
    "## Range"
   ]
  },
  {
   "cell_type": "code",
   "execution_count": 57,
   "metadata": {},
   "outputs": [
    {
     "name": "stdout",
     "output_type": "stream",
     "text": [
      "-------------\n",
      "[0, 1, 2, 3, 4]\n",
      "[50, 51, 52, 53, 54, 55, 56, 57, 58, 59, 60, 61, 62, 63, 64, 65, 66, 67, 68, 69, 70, 71, 72, 73, 74, 75, 76, 77, 78, 79, 80, 81, 82, 83, 84, 85, 86, 87, 88, 89, 90, 91, 92, 93, 94, 95, 96, 97, 98, 99]\n",
      "[0, 2, 4, 6, 8, 10, 12, 14, 16, 18, 20, 22, 24, 26, 28, 30, 32, 34, 36, 38, 40, 42, 44, 46, 48, 50, 52, 54, 56, 58, 60, 62, 64, 66, 68, 70, 72, 74, 76, 78, 80, 82, 84, 86, 88, 90, 92, 94, 96, 98]\n",
      "-------------\n",
      "[ 0  1  2  3  4  5  6  7  8  9 10 11 12 13 14 15 16 17 18 19]\n",
      "[ 0  1  2  3  4  5  6  7  8  9 10 11 12 13 14 15 16 17 18 19 20 21 22 23\n",
      " 24 25 26 27 28 29 30 31 32 33 34 35 36 37 38 39 40 41 42 43 44 45 46 47\n",
      " 48 49 50 51 52 53 54 55 56 57 58 59 60 61 62 63 64 65 66 67 68 69 70 71\n",
      " 72 73 74 75 76 77 78 79 80 81 82 83 84 85 86 87 88 89 90 91 92 93 94 95\n",
      " 96 97 98 99]\n",
      "[ 0  5 10 15 20 25 30 35 40 45 50 55 60 65 70 75 80 85 90 95]\n",
      "-------------\n"
     ]
    }
   ],
   "source": [
    "# Python - Lista de valores de x a y (si no se le asigna X, vale 0) (tercer parámetro es STEP)\n",
    "a = range(5)\n",
    "b = range(50,100)\n",
    "c = range(0,100,2)\n",
    "print('-------------')\n",
    "print(list(a))\n",
    "print(list(b))\n",
    "print(list(c))\n",
    "print('-------------')\n",
    "\n",
    "a = np.arange(20)\n",
    "print(a)\n",
    "b = np.arange(0,100)\n",
    "print(b)\n",
    "c = np.arange(0,100, 5)\n",
    "print(c)\n",
    "\n",
    "print('-------------')"
   ]
  },
  {
   "cell_type": "markdown",
   "metadata": {},
   "source": [
    "## Accediendo y Modificando elementos de un array"
   ]
  },
  {
   "cell_type": "code",
   "execution_count": 62,
   "metadata": {},
   "outputs": [],
   "source": [
    "a = np.arange(20)\n",
    "b = np.arange(20)"
   ]
  },
  {
   "cell_type": "markdown",
   "metadata": {},
   "source": [
    "Obtener un elemento de un array"
   ]
  },
  {
   "cell_type": "code",
   "execution_count": 63,
   "metadata": {},
   "outputs": [
    {
     "name": "stdout",
     "output_type": "stream",
     "text": [
      "5\n"
     ]
    }
   ],
   "source": [
    "print(a[5])"
   ]
  },
  {
   "cell_type": "code",
   "execution_count": 68,
   "metadata": {},
   "outputs": [
    {
     "name": "stdout",
     "output_type": "stream",
     "text": [
      "19\n"
     ]
    }
   ],
   "source": [
    "print(a[-1])"
   ]
  },
  {
   "cell_type": "code",
   "execution_count": 70,
   "metadata": {},
   "outputs": [],
   "source": [
    "## Obtener - Rango de elementos"
   ]
  },
  {
   "cell_type": "code",
   "execution_count": 71,
   "metadata": {},
   "outputs": [
    {
     "name": "stdout",
     "output_type": "stream",
     "text": [
      "[5 6 7 8 9]\n"
     ]
    }
   ],
   "source": [
    "print(a[5:10])"
   ]
  },
  {
   "cell_type": "code",
   "execution_count": 72,
   "metadata": {},
   "outputs": [
    {
     "name": "stdout",
     "output_type": "stream",
     "text": [
      "[5 7 9]\n"
     ]
    }
   ],
   "source": [
    "# También existe un step para usarlo como salto\n",
    "print(a[5:10:2])"
   ]
  },
  {
   "cell_type": "code",
   "execution_count": 74,
   "metadata": {},
   "outputs": [
    {
     "name": "stdout",
     "output_type": "stream",
     "text": [
      "[0 1 2 3 4]\n"
     ]
    }
   ],
   "source": [
    "# Obtener de la pos 0 a la 5\n",
    "print(a[:5])"
   ]
  },
  {
   "cell_type": "code",
   "execution_count": 75,
   "metadata": {},
   "outputs": [
    {
     "name": "stdout",
     "output_type": "stream",
     "text": [
      "[ 5  6  7  8  9 10 11 12 13 14 15 16 17 18 19]\n"
     ]
    }
   ],
   "source": [
    "# Desde X hasta el final\n",
    "print(a[5:])"
   ]
  },
  {
   "cell_type": "code",
   "execution_count": 78,
   "metadata": {},
   "outputs": [
    {
     "name": "stdout",
     "output_type": "stream",
     "text": [
      "[[ 1  2  3  4  5]\n",
      " [ 6  7  8  9 10]]\n"
     ]
    }
   ],
   "source": [
    "c = np.array([[1,2,3,4,5],[6,7,8,9,10]])\n",
    "print(c)"
   ]
  },
  {
   "cell_type": "code",
   "execution_count": 80,
   "metadata": {},
   "outputs": [
    {
     "name": "stdout",
     "output_type": "stream",
     "text": [
      "7\n"
     ]
    }
   ],
   "source": [
    "print(c[1,1])"
   ]
  },
  {
   "cell_type": "markdown",
   "metadata": {},
   "source": [
    "Obtener una fila completa de un array"
   ]
  },
  {
   "cell_type": "code",
   "execution_count": 67,
   "metadata": {},
   "outputs": [
    {
     "name": "stdout",
     "output_type": "stream",
     "text": [
      "[ 0  1  2  3  4  5  6  7  8  9 10 11 12 13 14 15 16 17 18 19]\n"
     ]
    }
   ],
   "source": [
    "print(a[:])"
   ]
  },
  {
   "cell_type": "code",
   "execution_count": 82,
   "metadata": {},
   "outputs": [
    {
     "name": "stdout",
     "output_type": "stream",
     "text": [
      "[ 6  7  8  9 10]\n"
     ]
    }
   ],
   "source": [
    "# Obtenemos la 2ª fila\n",
    "print(c[1,:])"
   ]
  },
  {
   "cell_type": "markdown",
   "metadata": {},
   "source": [
    "Obtener una columna completa de un array"
   ]
  },
  {
   "cell_type": "code",
   "execution_count": 91,
   "metadata": {},
   "outputs": [
    {
     "name": "stdout",
     "output_type": "stream",
     "text": [
      "[3 8]\n",
      "[[3]\n",
      " [8]]\n"
     ]
    }
   ],
   "source": [
    "print(c[:,2])\n",
    "\n",
    "#Modificar el shape de un Array\n",
    "print(c[:,2].reshape(2,1))"
   ]
  },
  {
   "cell_type": "markdown",
   "metadata": {},
   "source": [
    "Otras formas de acceder a los elementos de un array"
   ]
  },
  {
   "cell_type": "code",
   "execution_count": 90,
   "metadata": {},
   "outputs": [
    {
     "name": "stdout",
     "output_type": "stream",
     "text": [
      "[[ 1  3  5]\n",
      " [ 6  8 10]]\n",
      "[[ 1  3  5]\n",
      " [ 6  8 10]]\n",
      "[[ 1  3  5]\n",
      " [ 6  8 10]]\n"
     ]
    }
   ],
   "source": [
    "#Elementos en posición par de todas las filas [filas, columnas]\n",
    "print(c[:, ::2])\n",
    "#Desde 0 hasta final de 2 en 2 (como hemos dejado :: el limite es el final)\n",
    "\n",
    "#Es lo mismo que\n",
    "print(c[:, 0::2])\n",
    "\n",
    "#Es lo mismo que\n",
    "print(c[:, 0::2])"
   ]
  },
  {
   "cell_type": "code",
   "execution_count": 98,
   "metadata": {},
   "outputs": [
    {
     "name": "stdout",
     "output_type": "stream",
     "text": [
      "[[0 1 2 3 4]\n",
      " [5 6 7 8 9]]\n"
     ]
    }
   ],
   "source": [
    "# Reshape\n",
    "d = np.arange(10).reshape(2,5)\n",
    "print(d)"
   ]
  },
  {
   "cell_type": "code",
   "execution_count": 101,
   "metadata": {},
   "outputs": [
    {
     "name": "stdout",
     "output_type": "stream",
     "text": [
      "[[ 0  1  2  3]\n",
      " [ 4  5  6  7]\n",
      " [ 8  9 10 11]\n",
      " [12 13 14 15]\n",
      " [16 17 18 19]\n",
      " [20 21 22 23]\n",
      " [24 25 26 27]\n",
      " [28 29 30 31]\n",
      " [32 33 34 35]\n",
      " [36 37 38 39]]\n"
     ]
    }
   ],
   "source": [
    "# Reshape\n",
    "d = np.arange(40).reshape(10,4)\n",
    "print(d)"
   ]
  },
  {
   "cell_type": "markdown",
   "metadata": {},
   "source": [
    "#### Actualizar un elemento de un array"
   ]
  },
  {
   "cell_type": "code",
   "execution_count": 104,
   "metadata": {},
   "outputs": [
    {
     "name": "stdout",
     "output_type": "stream",
     "text": [
      "[[99  1  2  3  4]\n",
      " [ 5  6  7  8  9]]\n"
     ]
    }
   ],
   "source": [
    "a = np.arange(10).reshape(2,5)\n",
    "a[0,0] = 99\n",
    "print(a)"
   ]
  },
  {
   "cell_type": "code",
   "execution_count": 125,
   "metadata": {},
   "outputs": [
    {
     "name": "stdout",
     "output_type": "stream",
     "text": [
      "[[ 0  1  2  3]\n",
      " [ 4  5  6  7]\n",
      " [ 8  9 10 11]\n",
      " [12 13 14 15]\n",
      " [16 17 18 19]\n",
      " [20 21 22 23]\n",
      " [24 25 26 27]\n",
      " [28 29 30 31]\n",
      " [32 33 34 35]\n",
      " [ 1  2  3  4]]\n"
     ]
    }
   ],
   "source": [
    "#Poner 1,2,3,4 en la última\n",
    "b = np.arange(40).reshape(10,4)\n",
    "b[-1,:] = [1,2,3,4]\n",
    "print(b)"
   ]
  },
  {
   "cell_type": "code",
   "execution_count": 123,
   "metadata": {},
   "outputs": [
    {
     "name": "stdout",
     "output_type": "stream",
     "text": [
      "[[ 0  1  2  3]\n",
      " [ 4  5  6  7]\n",
      " [ 8  9 10 11]\n",
      " [12 13 14 15]\n",
      " [16 17 18 19]\n",
      " [20 21 22 23]\n",
      " [24 25 26 27]\n",
      " [28 29 30 31]\n",
      " [32 33 34 35]\n",
      " [ 0  1  2  3]]\n"
     ]
    }
   ],
   "source": [
    "#Poner la primera fila en la última\n",
    "b = np.arange(40).reshape(10,4)\n",
    "b[-1,:] = b[0,:]\n",
    "print(b)"
   ]
  },
  {
   "cell_type": "code",
   "execution_count": 127,
   "metadata": {},
   "outputs": [
    {
     "name": "stdout",
     "output_type": "stream",
     "text": [
      "[[ 0  1  2  3]\n",
      " [ 4  5  6  7]\n",
      " [ 8  9 10 11]\n",
      " [12 13 14 15]\n",
      " [16 17 18 19]\n",
      " [20 21 22 23]\n",
      " [24 25 26 27]\n",
      " [28 29 30 31]\n",
      " [32 33 34 35]\n",
      " [ 0  0  0  0]]\n"
     ]
    }
   ],
   "source": [
    "#Poner Zeros en la última fila\n",
    "b = np.arange(40).reshape(10,4)\n",
    "b[-1,:] = 0\n",
    "print(b)"
   ]
  },
  {
   "cell_type": "code",
   "execution_count": 131,
   "metadata": {},
   "outputs": [
    {
     "name": "stdout",
     "output_type": "stream",
     "text": [
      "[[ 0  1  2  3]\n",
      " [ 4  5  6  7]\n",
      " [ 8  9 10 11]\n",
      " [12 13 14 15]\n",
      " [16  0  0 19]\n",
      " [20  0  0 23]\n",
      " [24 25 26 27]\n",
      " [28 29 30 31]\n",
      " [32 33 34 35]\n",
      " [36 37 38 39]]\n"
     ]
    }
   ],
   "source": [
    "# Poner 0 en el centro\n",
    "b = np.arange(40).reshape(10,4)\n",
    "b[4:6,1:3] = 0\n",
    "print(b)"
   ]
  },
  {
   "cell_type": "code",
   "execution_count": 132,
   "metadata": {},
   "outputs": [
    {
     "name": "stdout",
     "output_type": "stream",
     "text": [
      "[[ 0  1  2  3]\n",
      " [ 4  5  6  7]\n",
      " [ 8  9 10 11]\n",
      " [12 13 14 15]\n",
      " [16  1  2 19]\n",
      " [20  3  5 23]\n",
      " [24 25 26 27]\n",
      " [28 29 30 31]\n",
      " [32 33 34 35]\n",
      " [36 37 38 39]]\n"
     ]
    }
   ],
   "source": [
    "# Poner 1,2,3,4 en el centro\n",
    "b = np.arange(40).reshape(10,4)\n",
    "b[4:6,1:3] = np.array([1,2,3,5]).reshape(2,2)\n",
    "print(b)"
   ]
  },
  {
   "cell_type": "markdown",
   "metadata": {},
   "source": [
    "Ejercicios"
   ]
  },
  {
   "cell_type": "code",
   "execution_count": 105,
   "metadata": {},
   "outputs": [
    {
     "name": "stdout",
     "output_type": "stream",
     "text": [
      "5\n"
     ]
    }
   ],
   "source": [
    "'''\n",
    "Define un array 's' de tamaño 10 y selecciona el valor de la posición 5\n",
    "'''\n",
    "s = np.arange(10)\n",
    "print(s[5])"
   ]
  },
  {
   "cell_type": "code",
   "execution_count": 106,
   "metadata": {},
   "outputs": [
    {
     "name": "stdout",
     "output_type": "stream",
     "text": [
      "5\n"
     ]
    }
   ],
   "source": [
    "'''\n",
    "Sobre el array s, selecciona el valor 5\n",
    "'''\n",
    "print(s[5])"
   ]
  },
  {
   "cell_type": "code",
   "execution_count": 168,
   "metadata": {},
   "outputs": [
    {
     "name": "stdout",
     "output_type": "stream",
     "text": [
      "[ 0  2  4  6  8 10 12 14 16 18 20 22 24]\n"
     ]
    }
   ],
   "source": [
    "'''\n",
    "Define el array 's' de tamaño 25 y selecciona los valores pares\n",
    "'''\n",
    "s = np.arange(25)\n",
    "print(s[::2])"
   ]
  },
  {
   "cell_type": "code",
   "execution_count": 169,
   "metadata": {},
   "outputs": [
    {
     "name": "stdout",
     "output_type": "stream",
     "text": [
      "[ 1  3  5  7  9 11 13 15 17 19 21 23]\n"
     ]
    }
   ],
   "source": [
    "'''\n",
    "Define el array 's' de tamaño 25 y selecciona los valores impares\n",
    "'''\n",
    "s = np.arange(25)\n",
    "print(s[1::2])"
   ]
  },
  {
   "cell_type": "code",
   "execution_count": 172,
   "metadata": {},
   "outputs": [
    {
     "name": "stdout",
     "output_type": "stream",
     "text": [
      "24\n"
     ]
    }
   ],
   "source": [
    "'''\n",
    "Sobre el array s, selecciona el uĺltimo valor\n",
    "'''\n",
    "print(s[-1])"
   ]
  },
  {
   "cell_type": "code",
   "execution_count": 175,
   "metadata": {},
   "outputs": [
    {
     "name": "stdout",
     "output_type": "stream",
     "text": [
      "[ 0  1  2  3  4  5  6  7  8  9 10 11 12 13 14 15 16 17 18 19]\n",
      "[19 18 17 16 15 14 13 12 11 10  9  8  7  6  5  4  3  2  1  0]\n"
     ]
    }
   ],
   "source": [
    "\"\"\"\n",
    "Define el array 's' de tamaño 20 e invierte el orden de los valores\n",
    "\"\"\"\n",
    "s = np.arange(20)\n",
    "print(s)\n",
    "s = s[s[-1]::-1]\n",
    "\n",
    "print(s)"
   ]
  },
  {
   "cell_type": "code",
   "execution_count": 178,
   "metadata": {},
   "outputs": [
    {
     "name": "stdout",
     "output_type": "stream",
     "text": [
      "[[0 1]\n",
      " [2 3]]\n",
      "3\n"
     ]
    }
   ],
   "source": [
    "'''\n",
    "Define un array s2 multidimensional de tamaño 2x2 y selecciona el valor de la segunda fila y la segunda columna\n",
    "'''\n",
    "s2 = np.arange(4).reshape(2,2)\n",
    "print(s2)\n",
    "print(s2[1,1])"
   ]
  },
  {
   "cell_type": "code",
   "execution_count": 183,
   "metadata": {},
   "outputs": [
    {
     "name": "stdout",
     "output_type": "stream",
     "text": [
      "[[[1 2]\n",
      "  [3 4]]\n",
      "\n",
      " [[5 6]\n",
      "  [7 8]]]\n",
      "6\n"
     ]
    }
   ],
   "source": [
    "'''\n",
    "Define el array:\n",
    "[\n",
    "[[1, 2], [3, 4]]\n",
    "[[5, 6], [7, 8]]\n",
    "]\n",
    "y selecciona el valor de la segunda dimension, primera fila, segunda columna\n",
    "'''\n",
    "\n",
    "array = np.arange(1,9).reshape(2,2,2)\n",
    "print(array)\n",
    "print(array[1,0,1])"
   ]
  },
  {
   "cell_type": "code",
   "execution_count": 193,
   "metadata": {},
   "outputs": [
    {
     "name": "stdout",
     "output_type": "stream",
     "text": [
      "[[[ 0  1  2]\n",
      "  [ 3 99  5]\n",
      "  [ 6 99  8]\n",
      "  [ 9 10 11]]\n",
      "\n",
      " [[12 13 14]\n",
      "  [15 99 17]\n",
      "  [18 99 20]\n",
      "  [21 22 23]]\n",
      "\n",
      " [[24 25 26]\n",
      "  [27 99 29]\n",
      "  [30 99 32]\n",
      "  [33 34 35]]\n",
      "\n",
      " [[36 37 38]\n",
      "  [39 99 41]\n",
      "  [42 99 44]\n",
      "  [45 46 47]]]\n"
     ]
    }
   ],
   "source": [
    "'''\n",
    "Define un array s4 de tamaño 4x4x3 y establece los números centrales a 99\n",
    "'''\n",
    "s4 = np.arange(48).reshape(4,4,3)\n",
    "# print(s4)\n",
    "#s4[0][1,1] = 99\n",
    "#s4[0][2,1] = 99\n",
    "s4[:,1:-1,1:-1] = 99\n",
    "\n",
    "# En todas las dimensiones\n",
    "# de la fila 1 hasta la última (sin incluir) \n",
    "# de la columna 1 hasta la última (sin incluir)\n",
    "\n",
    "print(s4)"
   ]
  },
  {
   "cell_type": "code",
   "execution_count": 202,
   "metadata": {},
   "outputs": [
    {
     "name": "stdout",
     "output_type": "stream",
     "text": [
      "[[[ 0  1  2]\n",
      "  [ 3  0  5]\n",
      "  [ 6  1  8]\n",
      "  [ 9 10 11]]\n",
      "\n",
      " [[12 13 14]\n",
      "  [15  2 17]\n",
      "  [18  3 20]\n",
      "  [21 22 23]]\n",
      "\n",
      " [[24 25 26]\n",
      "  [27  4 29]\n",
      "  [30  5 32]\n",
      "  [33 34 35]]\n",
      "\n",
      " [[36 37 38]\n",
      "  [39  6 41]\n",
      "  [42  7 44]\n",
      "  [45 46 47]]]\n"
     ]
    }
   ],
   "source": [
    "'''\n",
    "Define un array s4 de tamaño 4x4x3 y establece los números centrales a (0,1), (2,3), (4,5), (6,7)\n",
    "'''\n",
    "s4 = np.arange(48).reshape(4,4,3)\n",
    "selected = s4[:,1:-1,1:-1]\n",
    "#print(s4)\n",
    "#print('--------')\n",
    "#print(selected)\n",
    "new_values = np.arange(8).reshape(4,2,1)\n",
    "#print(new_values)\n",
    "\n",
    "s4[:,1:-1,1:-1] = new_values\n",
    "print(s4)"
   ]
  },
  {
   "cell_type": "markdown",
   "metadata": {},
   "source": [
    "## Inicializando diferentes tipos de arrays"
   ]
  },
  {
   "cell_type": "markdown",
   "metadata": {},
   "source": [
    "Matriz de ceros"
   ]
  },
  {
   "cell_type": "code",
   "execution_count": 145,
   "metadata": {},
   "outputs": [
    {
     "name": "stdout",
     "output_type": "stream",
     "text": [
      "[0. 0. 0. 0. 0. 0. 0. 0. 0. 0.]\n"
     ]
    }
   ],
   "source": [
    "#1D\n",
    "zeros = np.zeros(10)\n",
    "print(zeros)"
   ]
  },
  {
   "cell_type": "code",
   "execution_count": 146,
   "metadata": {},
   "outputs": [
    {
     "name": "stdout",
     "output_type": "stream",
     "text": [
      "[[0. 0. 0. 0.]\n",
      " [0. 0. 0. 0.]\n",
      " [0. 0. 0. 0.]\n",
      " [0. 0. 0. 0.]\n",
      " [0. 0. 0. 0.]\n",
      " [0. 0. 0. 0.]\n",
      " [0. 0. 0. 0.]\n",
      " [0. 0. 0. 0.]\n",
      " [0. 0. 0. 0.]\n",
      " [0. 0. 0. 0.]]\n"
     ]
    }
   ],
   "source": [
    "#n dimensiones\n",
    "zeros = np.zeros((10,4))\n",
    "print(zeros)"
   ]
  },
  {
   "cell_type": "markdown",
   "metadata": {},
   "source": [
    "Matriz de unos"
   ]
  },
  {
   "cell_type": "code",
   "execution_count": 143,
   "metadata": {},
   "outputs": [
    {
     "name": "stdout",
     "output_type": "stream",
     "text": [
      "[1. 1. 1. 1. 1. 1. 1. 1. 1. 1.]\n",
      "[[1. 1. 1. 1. 1. 1. 1. 1. 1. 1.]\n",
      " [1. 1. 1. 1. 1. 1. 1. 1. 1. 1.]\n",
      " [1. 1. 1. 1. 1. 1. 1. 1. 1. 1.]\n",
      " [1. 1. 1. 1. 1. 1. 1. 1. 1. 1.]\n",
      " [1. 1. 1. 1. 1. 1. 1. 1. 1. 1.]\n",
      " [1. 1. 1. 1. 1. 1. 1. 1. 1. 1.]\n",
      " [1. 1. 1. 1. 1. 1. 1. 1. 1. 1.]\n",
      " [1. 1. 1. 1. 1. 1. 1. 1. 1. 1.]\n",
      " [1. 1. 1. 1. 1. 1. 1. 1. 1. 1.]\n",
      " [1. 1. 1. 1. 1. 1. 1. 1. 1. 1.]]\n"
     ]
    }
   ],
   "source": [
    "ones = np.ones(10)\n",
    "print(ones)\n",
    "\n",
    "ones = np.ones((10,10))\n",
    "print(ones)"
   ]
  },
  {
   "cell_type": "markdown",
   "metadata": {},
   "source": [
    "Matriz de valores concretos"
   ]
  },
  {
   "cell_type": "code",
   "execution_count": 147,
   "metadata": {},
   "outputs": [
    {
     "name": "stdout",
     "output_type": "stream",
     "text": [
      "[[99 99 99]\n",
      " [99 99 99]\n",
      " [99 99 99]]\n"
     ]
    }
   ],
   "source": [
    "concretos = np.full((3,3), 99)\n",
    "print(concretos)"
   ]
  },
  {
   "cell_type": "markdown",
   "metadata": {},
   "source": [
    "Matriz de valores concretos (full like)"
   ]
  },
  {
   "cell_type": "code",
   "execution_count": 152,
   "metadata": {},
   "outputs": [
    {
     "name": "stdout",
     "output_type": "stream",
     "text": [
      "[[99. 99. 99. 99. 99. 99. 99. 99. 99. 99.]\n",
      " [99. 99. 99. 99. 99. 99. 99. 99. 99. 99.]\n",
      " [99. 99. 99. 99. 99. 99. 99. 99. 99. 99.]\n",
      " [99. 99. 99. 99. 99. 99. 99. 99. 99. 99.]\n",
      " [99. 99. 99. 99. 99. 99. 99. 99. 99. 99.]\n",
      " [99. 99. 99. 99. 99. 99. 99. 99. 99. 99.]\n",
      " [99. 99. 99. 99. 99. 99. 99. 99. 99. 99.]\n",
      " [99. 99. 99. 99. 99. 99. 99. 99. 99. 99.]\n",
      " [99. 99. 99. 99. 99. 99. 99. 99. 99. 99.]\n",
      " [99. 99. 99. 99. 99. 99. 99. 99. 99. 99.]]\n"
     ]
    }
   ],
   "source": [
    "# Copia el shape de otra matriz\n",
    "\n",
    "full_like = np.full_like(ones, 99)\n",
    "print(full_like)"
   ]
  },
  {
   "cell_type": "markdown",
   "metadata": {},
   "source": [
    "Matriz de números aleatorios"
   ]
  },
  {
   "cell_type": "code",
   "execution_count": 155,
   "metadata": {},
   "outputs": [
    {
     "name": "stdout",
     "output_type": "stream",
     "text": [
      "[0.81951251 0.9322061  0.37160369 0.79318165 0.80963657 0.51696057\n",
      " 0.8744296  0.55515272 0.02035156 0.54292531 0.67750708 0.01671387\n",
      " 0.95437283 0.94008406 0.78431314 0.69763071 0.9833909  0.77413354\n",
      " 0.68296069 0.94749512]\n"
     ]
    }
   ],
   "source": [
    "random_numbers = np.random.rand(20)\n",
    "print(random_numbers)"
   ]
  },
  {
   "cell_type": "code",
   "execution_count": 157,
   "metadata": {},
   "outputs": [
    {
     "name": "stdout",
     "output_type": "stream",
     "text": [
      "[[0.15615417 0.72042979 0.34376545]\n",
      " [0.93342992 0.83015935 0.66829166]\n",
      " [0.22168244 0.64897306 0.47100068]]\n"
     ]
    }
   ],
   "source": [
    "# Dándole dimensión\n",
    "other_random = np.random.rand(3,3)\n",
    "print(other_random)"
   ]
  },
  {
   "cell_type": "code",
   "execution_count": 158,
   "metadata": {},
   "outputs": [
    {
     "name": "stdout",
     "output_type": "stream",
     "text": [
      "[29 88 86 64 61 82 32 94 40 43]\n"
     ]
    }
   ],
   "source": [
    "# Random de Enteros (del 0 al 100)\n",
    "g = np.random.randint(100, size=10)\n",
    "print(g)"
   ]
  },
  {
   "cell_type": "code",
   "execution_count": 162,
   "metadata": {},
   "outputs": [
    {
     "name": "stdout",
     "output_type": "stream",
     "text": [
      "[[61 82 54]\n",
      " [99 64 62]\n",
      " [51 92 69]\n",
      " [94 99 96]]\n"
     ]
    }
   ],
   "source": [
    "# Random de Enteros con shape (100 no es inclusivo)\n",
    "g = np.random.randint(50,100, size=(4,3))\n",
    "print(g)"
   ]
  },
  {
   "cell_type": "code",
   "execution_count": 163,
   "metadata": {},
   "outputs": [
    {
     "name": "stdout",
     "output_type": "stream",
     "text": [
      "[[[91 68]\n",
      "  [51 79]\n",
      "  [86 66]]\n",
      "\n",
      " [[61 70]\n",
      "  [61 62]\n",
      "  [68 65]]\n",
      "\n",
      " [[80 70]\n",
      "  [60 62]\n",
      "  [63 56]]\n",
      "\n",
      " [[97 69]\n",
      "  [88 95]\n",
      "  [72 50]]]\n"
     ]
    }
   ],
   "source": [
    "# Random de Enteros con shape más dimensiones\n",
    "g = np.random.randint(50,100, size=(4,3,2))\n",
    "print(g)"
   ]
  },
  {
   "cell_type": "markdown",
   "metadata": {},
   "source": [
    "Matriz identidad - Aquella matriz que tiene valores 1 en la diagonal"
   ]
  },
  {
   "cell_type": "code",
   "execution_count": 166,
   "metadata": {},
   "outputs": [
    {
     "name": "stdout",
     "output_type": "stream",
     "text": [
      "[[1. 0. 0. 0. 0. 0. 0. 0. 0.]\n",
      " [0. 1. 0. 0. 0. 0. 0. 0. 0.]\n",
      " [0. 0. 1. 0. 0. 0. 0. 0. 0.]\n",
      " [0. 0. 0. 1. 0. 0. 0. 0. 0.]\n",
      " [0. 0. 0. 0. 1. 0. 0. 0. 0.]\n",
      " [0. 0. 0. 0. 0. 1. 0. 0. 0.]\n",
      " [0. 0. 0. 0. 0. 0. 1. 0. 0.]\n",
      " [0. 0. 0. 0. 0. 0. 0. 1. 0.]\n",
      " [0. 0. 0. 0. 0. 0. 0. 0. 1.]]\n"
     ]
    }
   ],
   "source": [
    "# Solo se le pasa un valor porque por definición siempre es cuadrada\n",
    "identidad = np.identity(9)\n",
    "print(identidad)"
   ]
  },
  {
   "cell_type": "markdown",
   "metadata": {},
   "source": [
    "Ejercicios"
   ]
  },
  {
   "cell_type": "code",
   "execution_count": 205,
   "metadata": {},
   "outputs": [
    {
     "name": "stdout",
     "output_type": "stream",
     "text": [
      "[0. 0. 0. 0. 0. 0. 0. 0. 0. 0.]\n"
     ]
    }
   ],
   "source": [
    "'''\n",
    "Define el array z de dim 1 completo de ceros\n",
    "'''\n",
    "z = np.zeros(10)\n",
    "print(z)"
   ]
  },
  {
   "cell_type": "code",
   "execution_count": 207,
   "metadata": {},
   "outputs": [
    {
     "name": "stdout",
     "output_type": "stream",
     "text": [
      "[[0. 0. 0. 0. 0. 0. 0. 0.]\n",
      " [0. 0. 0. 0. 0. 0. 0. 0.]\n",
      " [0. 0. 0. 0. 0. 0. 0. 0.]\n",
      " [0. 0. 0. 0. 0. 0. 0. 0.]\n",
      " [0. 0. 0. 0. 0. 0. 0. 0.]\n",
      " [0. 0. 0. 0. 0. 0. 0. 0.]\n",
      " [0. 0. 0. 0. 0. 0. 0. 0.]\n",
      " [0. 0. 0. 0. 0. 0. 0. 0.]]\n"
     ]
    }
   ],
   "source": [
    "'''\n",
    "Define un array z de dim 8x8 completo de ceros\n",
    "'''\n",
    "z = np.zeros([8,8])\n",
    "print(z)"
   ]
  },
  {
   "cell_type": "code",
   "execution_count": 210,
   "metadata": {},
   "outputs": [
    {
     "name": "stdout",
     "output_type": "stream",
     "text": [
      "[[[0. 0. 0.]\n",
      "  [0. 0. 0.]\n",
      "  [0. 0. 0.]]\n",
      "\n",
      " [[0. 0. 0.]\n",
      "  [0. 0. 0.]\n",
      "  [0. 0. 0.]]\n",
      "\n",
      " [[0. 0. 0.]\n",
      "  [0. 0. 0.]\n",
      "  [0. 0. 0.]]]\n"
     ]
    }
   ],
   "source": [
    "'''\n",
    "Define el array 'z' completo de ceros de n dim\n",
    "'''\n",
    "z = np.zeros([3,3,3])\n",
    "print(z)"
   ]
  },
  {
   "cell_type": "code",
   "execution_count": 212,
   "metadata": {},
   "outputs": [
    {
     "name": "stdout",
     "output_type": "stream",
     "text": [
      "[[1. 1. 1. 1. 1. 1. 1. 1.]\n",
      " [1. 1. 1. 1. 1. 1. 1. 1.]\n",
      " [1. 1. 1. 1. 1. 1. 1. 1.]\n",
      " [1. 1. 1. 1. 1. 1. 1. 1.]\n",
      " [1. 1. 1. 1. 1. 1. 1. 1.]\n",
      " [1. 1. 1. 1. 1. 1. 1. 1.]\n",
      " [1. 1. 1. 1. 1. 1. 1. 1.]\n",
      " [1. 1. 1. 1. 1. 1. 1. 1.]]\n"
     ]
    }
   ],
   "source": [
    "'''\n",
    "Define el array 'd' completo de unos de n dim\n",
    "'''\n",
    "d = np.ones([8,8])\n",
    "print(d)"
   ]
  },
  {
   "cell_type": "code",
   "execution_count": 215,
   "metadata": {},
   "outputs": [
    {
     "name": "stdout",
     "output_type": "stream",
     "text": [
      "[[0. 0. 0. 0. 0. 0. 0. 0.]\n",
      " [0. 1. 1. 1. 1. 1. 1. 0.]\n",
      " [0. 1. 1. 1. 1. 1. 1. 0.]\n",
      " [0. 1. 1. 1. 1. 1. 1. 0.]\n",
      " [0. 1. 1. 1. 1. 1. 1. 0.]\n",
      " [0. 1. 1. 1. 1. 1. 1. 0.]\n",
      " [0. 1. 1. 1. 1. 1. 1. 0.]\n",
      " [0. 0. 0. 0. 0. 0. 0. 0.]]\n"
     ]
    }
   ],
   "source": [
    "'''\n",
    "Define un array como el que se muestra a continuación:\n",
    "[[0. 0. 0. 0. 0. 0. 0. 0.]\n",
    " [0. 1. 1. 1. 1. 1. 1. 0.]\n",
    " [0. 1. 1. 1. 1. 1. 1. 0.]\n",
    " [0. 1. 1. 1. 1. 1. 1. 0.]\n",
    " [0. 1. 1. 1. 1. 1. 1. 0.]\n",
    " [0. 1. 1. 1. 1. 1. 1. 0.]\n",
    " [0. 1. 1. 1. 1. 1. 1. 0.]\n",
    " [0. 0. 0. 0. 0. 0. 0. 0.]]\n",
    "'''\n",
    "result = np.zeros([8,8])\n",
    "result[1:-1,1:-1] = 1\n",
    "print(result)"
   ]
  },
  {
   "cell_type": "code",
   "execution_count": 222,
   "metadata": {},
   "outputs": [
    {
     "name": "stdout",
     "output_type": "stream",
     "text": [
      "[[0 1]\n",
      " [2 3]\n",
      " [4 5]\n",
      " [6 7]\n",
      " [8 9]]\n",
      "2\n"
     ]
    }
   ],
   "source": [
    "'''\n",
    "Define un array 'g' conun range de 0 a 10 de dim 2\n",
    "'''\n",
    "g = np.arange(10).reshape(5,2)\n",
    "print(g)\n",
    "print(g.ndim)"
   ]
  },
  {
   "cell_type": "code",
   "execution_count": 225,
   "metadata": {},
   "outputs": [
    {
     "name": "stdout",
     "output_type": "stream",
     "text": [
      "[[ 0  5 10 15 20]\n",
      " [25 30 35 40 45]\n",
      " [50 55 60 65 70]\n",
      " [75 80 85 90 95]]\n"
     ]
    }
   ],
   "source": [
    "'''\n",
    "Define un array 'h' con un range de 0 a 100 con un paso de 5 y una dim difrente de 1\n",
    "'''\n",
    "h = np.arange(0,100,5).reshape(4,5)\n",
    "print(h)"
   ]
  },
  {
   "cell_type": "markdown",
   "metadata": {},
   "source": [
    "## Operaciones con arrays"
   ]
  },
  {
   "cell_type": "markdown",
   "metadata": {},
   "source": [
    "operaciones básicas"
   ]
  },
  {
   "cell_type": "code",
   "execution_count": null,
   "metadata": {},
   "outputs": [],
   "source": [
    "a = np.array([1, 2, 3, 4, 5])"
   ]
  },
  {
   "cell_type": "markdown",
   "metadata": {},
   "source": [
    "Ejercicios"
   ]
  },
  {
   "cell_type": "code",
   "execution_count": null,
   "metadata": {},
   "outputs": [],
   "source": [
    "'''\n",
    "Define un array 'a' de tamaño 4 y un array 'b' de tamaño 4 completo de 1s. A contunuación suma los valores de ambos arrays y comprueba que los valores son correctos.\n",
    "'''"
   ]
  },
  {
   "cell_type": "code",
   "execution_count": null,
   "metadata": {},
   "outputs": [],
   "source": [
    "'''\n",
    "Define un array 'a' de tamaño 4 y un array 'b' de tamaño 4 completo de 1s. A contunuación resta los valores de ambos arrays y comprueba que los valores son correctos.\n",
    "'''\n"
   ]
  },
  {
   "cell_type": "code",
   "execution_count": null,
   "metadata": {},
   "outputs": [],
   "source": [
    "'''\n",
    "Define un array 'a' de tamaño 4 y un array 'b' de tamaño 4 completo de 2s. A contunuación multiplica o divide los valores de ambos arrays y comprueba que los valores son correctos.\n",
    "'''"
   ]
  },
  {
   "cell_type": "markdown",
   "metadata": {},
   "source": [
    "Álgebra lineal"
   ]
  },
  {
   "cell_type": "code",
   "execution_count": null,
   "metadata": {},
   "outputs": [],
   "source": []
  },
  {
   "cell_type": "markdown",
   "metadata": {},
   "source": [
    "Estadísticas"
   ]
  },
  {
   "cell_type": "markdown",
   "metadata": {},
   "source": [
    "operaciones con arrays:\n",
    "- **np.sum():** Suma de todos los elementos de un array\n",
    "- **np.mean():** Media de todos los elementos de un array\n",
    "- **np.std():** Desviación estándar de todos los elementos de un array\n",
    "- **np.var():** Varianza de todos los elementos de un array\n",
    "- **np.min():** Valor mínimo de todos los elementos de un array\n",
    "- **np.max():** Valor máximo de todos los elementos de un array\n",
    "- **np.flip():** Inversa de un array\n"
   ]
  },
  {
   "cell_type": "code",
   "execution_count": null,
   "metadata": {},
   "outputs": [],
   "source": []
  },
  {
   "cell_type": "markdown",
   "metadata": {},
   "source": [
    "Cargar datos de un fichero"
   ]
  },
  {
   "cell_type": "code",
   "execution_count": null,
   "metadata": {},
   "outputs": [],
   "source": []
  },
  {
   "cell_type": "markdown",
   "metadata": {},
   "source": [
    "Máscaras booleanas y operaciones avanzadas"
   ]
  },
  {
   "cell_type": "code",
   "execution_count": null,
   "metadata": {},
   "outputs": [],
   "source": []
  }
 ],
 "metadata": {
  "kernelspec": {
   "display_name": "Python 3 (ipykernel)",
   "language": "python",
   "name": "python3"
  },
  "language_info": {
   "codemirror_mode": {
    "name": "ipython",
    "version": 3
   },
   "file_extension": ".py",
   "mimetype": "text/x-python",
   "name": "python",
   "nbconvert_exporter": "python",
   "pygments_lexer": "ipython3",
   "version": "3.9.12"
  },
  "vscode": {
   "interpreter": {
    "hash": "916dbcbb3f70747c44a77c7bcd40155683ae19c65e1c03b4aa3499c5328201f1"
   }
  }
 },
 "nbformat": 4,
 "nbformat_minor": 2
}

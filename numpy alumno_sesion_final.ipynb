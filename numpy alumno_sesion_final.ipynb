{
 "cells": [
  {
   "cell_type": "markdown",
   "metadata": {},
   "source": [
    "# Python numpy"
   ]
  },
  {
   "cell_type": "code",
   "execution_count": 2,
   "metadata": {},
   "outputs": [
    {
     "name": "stdout",
     "output_type": "stream",
     "text": [
      "[1 2 3 4 5]\n"
     ]
    }
   ],
   "source": [
    "'''\n",
    "Lo primero es comprobar que tenemos instalado nmumpy y que lo podemos importar correctamente.\n",
    "La ejecución de este bloque de código nos debe mostrar el array [1,2,3,4,5]\n",
    "'''\n",
    "import numpy as np\n",
    "import pandas as pd\n",
    "\n",
    "# Definición de un nuevo 'ndarray', de ahora en adelante lo llamaremos simplemente 'array'\n",
    "test = np.array([1, 2, 3, 4, 5])\n",
    "print(test)"
   ]
  },
  {
   "cell_type": "markdown",
   "metadata": {},
   "source": [
    "### Primeros pasos"
   ]
  },
  {
   "cell_type": "code",
   "execution_count": 45,
   "metadata": {},
   "outputs": [
    {
     "name": "stdout",
     "output_type": "stream",
     "text": [
      "[1 2 3 4 5 6]\n"
     ]
    },
    {
     "data": {
      "text/plain": [
       "numpy.ndarray"
      ]
     },
     "execution_count": 45,
     "metadata": {},
     "output_type": "execute_result"
    }
   ],
   "source": [
    "# Definir un array\n",
    "a = np.array([1,2,3,4,5,6])\n",
    "print(a)\n",
    "type(a)"
   ]
  },
  {
   "cell_type": "code",
   "execution_count": 21,
   "metadata": {},
   "outputs": [
    {
     "name": "stdout",
     "output_type": "stream",
     "text": [
      "[[1 2 3 4]\n",
      " [5 6 7 8]]\n"
     ]
    }
   ],
   "source": [
    "# Definir un array 2d\n",
    "b = np.array( [[1,2,3,4],[5,6,7,8]])\n",
    "print(b)"
   ]
  },
  {
   "cell_type": "code",
   "execution_count": 22,
   "metadata": {},
   "outputs": [
    {
     "name": "stdout",
     "output_type": "stream",
     "text": [
      "[[[[1 2]\n",
      "   [1 2]]\n",
      "\n",
      "  [[1 2]\n",
      "   [1 2]]]\n",
      "\n",
      "\n",
      " [[[1 2]\n",
      "   [1 2]]\n",
      "\n",
      "  [[1 2]\n",
      "   [1 2]]]\n",
      "\n",
      "\n",
      " [[[1 2]\n",
      "   [1 2]]\n",
      "\n",
      "  [[1 2]\n",
      "   [1 2]]]]\n"
     ]
    }
   ],
   "source": [
    "# array de shape: (3,2,2,2)\n",
    "b1 = np.array([[[[1,2],[1,2]],[[1,2],[1,2]]],[[[1,2],[1,2]],[[1,2],[1,2]]],[[[1,2],[1,2]],[[1,2],[1,2]]]])\n",
    "print(b1)"
   ]
  },
  {
   "cell_type": "code",
   "execution_count": 79,
   "metadata": {},
   "outputs": [
    {
     "name": "stdout",
     "output_type": "stream",
     "text": [
      "[[1 2]\n",
      " [3 4]\n",
      " [5 6]\n",
      " [7 8]]\n"
     ]
    }
   ],
   "source": [
    "# Definir un array de dimensión 2 (4,2)\n",
    "b = np.array([[1,2],[3,4],[5,6],[7,8]])\n",
    "print(b)"
   ]
  },
  {
   "cell_type": "code",
   "execution_count": 24,
   "metadata": {},
   "outputs": [
    {
     "name": "stdout",
     "output_type": "stream",
     "text": [
      "[[[1 2]\n",
      "  [3 4]]\n",
      "\n",
      " [[5 6]\n",
      "  [7 8]]]\n"
     ]
    }
   ],
   "source": [
    "# Defir array 3d (2,2,2)\n",
    "c = np.array([[[1,2],[3,4]],[[5,6],[7,8]]])\n",
    "print(c)"
   ]
  },
  {
   "cell_type": "code",
   "execution_count": 29,
   "metadata": {},
   "outputs": [
    {
     "name": "stdout",
     "output_type": "stream",
     "text": [
      "dimensión c:  3\n",
      "dimensión a:  1\n",
      "dimensión b:  2\n",
      "dimensión b1:  4\n"
     ]
    }
   ],
   "source": [
    "# dimensiones de un array\n",
    "print('dimensión c: ', c.ndim)\n",
    "print('dimensión a: ', a.ndim)\n",
    "print('dimensión b: ', b.ndim)\n",
    "print('dimensión b1: ', b1.ndim) "
   ]
  },
  {
   "cell_type": "code",
   "execution_count": 39,
   "metadata": {},
   "outputs": [
    {
     "name": "stdout",
     "output_type": "stream",
     "text": [
      "shape c:  (2, 2, 2)\n",
      "shape a:  (6,)\n",
      "shape b:  (4, 2)\n",
      "shape b1:  (3, 2, 2, 2)\n"
     ]
    }
   ],
   "source": [
    "# Forma shape de un array\n",
    "print('shape c: ', c.shape)\n",
    "print('shape a: ', a.shape)\n",
    "print('shape b: ', b.shape)\n",
    "print('shape b1: ', b1.shape)"
   ]
  },
  {
   "cell_type": "code",
   "execution_count": 46,
   "metadata": {},
   "outputs": [
    {
     "name": "stdout",
     "output_type": "stream",
     "text": [
      "int64\n"
     ]
    }
   ],
   "source": [
    "# Tipo de elemento\n",
    "print(a.dtype) # 8 bytes"
   ]
  },
  {
   "cell_type": "code",
   "execution_count": 83,
   "metadata": {},
   "outputs": [
    {
     "data": {
      "text/plain": [
       "array([1, 2, 3, 4, 5, 6])"
      ]
     },
     "execution_count": 83,
     "metadata": {},
     "output_type": "execute_result"
    }
   ],
   "source": [
    "# Definir el tipo de array en el momento de la creación\n",
    "a = np.array([1,2,3,4,5,6], dtype=np.int64)"
   ]
  },
  {
   "cell_type": "code",
   "execution_count": 64,
   "metadata": {},
   "outputs": [
    {
     "name": "stdout",
     "output_type": "stream",
     "text": [
      "n. elementos 6\n",
      "tamaño de cada elemento 8\n",
      "tamaño total 48\n"
     ]
    }
   ],
   "source": [
    "# Obtener el tamaño total de un array\n",
    "print('n. elementos', a.size)\n",
    "print('tamaño de cada elemento', a.itemsize)\n",
    "print('tamaño total', a.size * a.itemsize)"
   ]
  },
  {
   "cell_type": "code",
   "execution_count": 68,
   "metadata": {},
   "outputs": [
    {
     "name": "stdout",
     "output_type": "stream",
     "text": [
      "elementos a:  6\n",
      "elementos b:  8\n"
     ]
    }
   ],
   "source": [
    "# Número de elementos que tiene un array\n",
    "print('elementos a: ', a.size)\n",
    "print('elementos b: ', b.size)"
   ]
  },
  {
   "cell_type": "code",
   "execution_count": 70,
   "metadata": {},
   "outputs": [
    {
     "name": "stdout",
     "output_type": "stream",
     "text": [
      "[1 2 3 4 5 6]\n"
     ]
    }
   ],
   "source": [
    "# Definir arrays con range\n",
    "print(a)"
   ]
  },
  {
   "cell_type": "code",
   "execution_count": 72,
   "metadata": {},
   "outputs": [
    {
     "name": "stdout",
     "output_type": "stream",
     "text": [
      "[0 1 2 3 4 5 6 7 8 9]\n"
     ]
    }
   ],
   "source": [
    "# Otra forma de inicializar arrays\n",
    "# Se pueden definir aray mediante un rango\n",
    "e = np.arange(10) # Rango de 0 a 10\n",
    "print(e)"
   ]
  },
  {
   "cell_type": "code",
   "execution_count": 74,
   "metadata": {},
   "outputs": [
    {
     "name": "stdout",
     "output_type": "stream",
     "text": [
      "[10 11 12 13 14 15 16 17 18 19]\n"
     ]
    }
   ],
   "source": [
    "e2 = np.arange(10,20) # Rango de 10 a 20\n",
    "print(e2)"
   ]
  },
  {
   "cell_type": "code",
   "execution_count": 80,
   "metadata": {},
   "outputs": [
    {
     "data": {
      "text/plain": [
       "array([10, 15, 20, 25, 30, 35, 40, 45])"
      ]
     },
     "execution_count": 80,
     "metadata": {},
     "output_type": "execute_result"
    }
   ],
   "source": [
    "e3 = np.arange(10,50, 5) # Rango de 10 a 50 de 5 en 5\n",
    "e3"
   ]
  },
  {
   "cell_type": "markdown",
   "metadata": {},
   "source": [
    "Ejercicios"
   ]
  },
  {
   "cell_type": "code",
   "execution_count": null,
   "metadata": {},
   "outputs": [],
   "source": [
    "'''\n",
    "Define el array 'a' del 1 al 10\n",
    "'''\n",
    "\n",
    "'''\n",
    "Imprime la dimension del array y el shape\n",
    "'''"
   ]
  },
  {
   "cell_type": "code",
   "execution_count": null,
   "metadata": {},
   "outputs": [],
   "source": [
    "''' \n",
    "Define de un array 'b' de dimensiones 2x3 a partir de listas anidadas\n",
    "'''"
   ]
  },
  {
   "cell_type": "code",
   "execution_count": null,
   "metadata": {},
   "outputs": [],
   "source": [
    "'''\n",
    "Define un array 'c'  de dim 2x2x3 a partir de una lista de listas anidadas \n",
    "'''\n",
    "\n",
    "'''\n",
    "Imprime el número total de elementos del array y el shape\n",
    "'''"
   ]
  },
  {
   "cell_type": "markdown",
   "metadata": {},
   "source": [
    "## Accediendo y Modificando elementos de un array"
   ]
  },
  {
   "cell_type": "code",
   "execution_count": 85,
   "metadata": {},
   "outputs": [
    {
     "name": "stdout",
     "output_type": "stream",
     "text": [
      "[7 6 3 8 1 6 9]\n"
     ]
    }
   ],
   "source": [
    "a = np.array([7,6,3,8,1,6,9])\n",
    "print(a)"
   ]
  },
  {
   "cell_type": "markdown",
   "metadata": {},
   "source": [
    "Obtener un elemento de un array"
   ]
  },
  {
   "cell_type": "code",
   "execution_count": 87,
   "metadata": {},
   "outputs": [
    {
     "data": {
      "text/plain": [
       "7"
      ]
     },
     "execution_count": 87,
     "metadata": {},
     "output_type": "execute_result"
    }
   ],
   "source": [
    "# Elemento de la primera posición\n",
    "print(a[0])"
   ]
  },
  {
   "cell_type": "code",
   "execution_count": 89,
   "metadata": {},
   "outputs": [
    {
     "name": "stdout",
     "output_type": "stream",
     "text": [
      "8\n"
     ]
    }
   ],
   "source": [
    "# [7 6 3 8 1 6 9]\n",
    "#  0 1 2 3 4 5 6\n",
    "# Obtener el 8\n",
    "print(a[3])"
   ]
  },
  {
   "cell_type": "code",
   "execution_count": 91,
   "metadata": {},
   "outputs": [],
   "source": [
    "# Error out of range\n",
    "# a[16]"
   ]
  },
  {
   "cell_type": "code",
   "execution_count": 96,
   "metadata": {},
   "outputs": [
    {
     "name": "stdout",
     "output_type": "stream",
     "text": [
      "9\n",
      "1\n"
     ]
    }
   ],
   "source": [
    "# podemos emplear indices negativos\n",
    "# Selecciona elúltimo elemento\n",
    "print(a[-1])\n",
    "# Otros indices negativos\n",
    "print(a[-3])"
   ]
  },
  {
   "cell_type": "code",
   "execution_count": 105,
   "metadata": {},
   "outputs": [
    {
     "name": "stdout",
     "output_type": "stream",
     "text": [
      "[4 5 7 2 7 9 3 2 4 5 7 9 5 4 3 5 8 0 2]\n"
     ]
    }
   ],
   "source": [
    "b = np.array([4,5,7,2,7,9,3,2,4,5,7,9,5,4,3,5,8,0,2])\n",
    "print(b)"
   ]
  },
  {
   "cell_type": "code",
   "execution_count": 115,
   "metadata": {},
   "outputs": [
    {
     "name": "stdout",
     "output_type": "stream",
     "text": [
      "[4 5 7 2 7]\n"
     ]
    }
   ],
   "source": [
    "# Selección de rango de elementos\n",
    "# b[inicio: final]\n",
    "print(b[0:5])"
   ]
  },
  {
   "cell_type": "code",
   "execution_count": 117,
   "metadata": {},
   "outputs": [
    {
     "name": "stdout",
     "output_type": "stream",
     "text": [
      "[9 3 2 4 5 7 9 5 4 3]\n"
     ]
    }
   ],
   "source": [
    "# Selección de los elementos con índice del 5 al 15\n",
    "print(b[5:15])"
   ]
  },
  {
   "cell_type": "code",
   "execution_count": 119,
   "metadata": {},
   "outputs": [
    {
     "name": "stdout",
     "output_type": "stream",
     "text": [
      "[9 2 5 9 4]\n"
     ]
    }
   ],
   "source": [
    "# b[inicio:final:paso]\n",
    "print(b[5:15:2])"
   ]
  },
  {
   "cell_type": "code",
   "execution_count": 121,
   "metadata": {},
   "outputs": [
    {
     "name": "stdout",
     "output_type": "stream",
     "text": [
      "[5 4 9 5 2 9 2 5]\n"
     ]
    }
   ],
   "source": [
    "print(b[15:0:-2])"
   ]
  },
  {
   "cell_type": "code",
   "execution_count": 124,
   "metadata": {},
   "outputs": [
    {
     "name": "stdout",
     "output_type": "stream",
     "text": [
      "[4 5 7 2 7 9 3 2 4 5]\n"
     ]
    }
   ],
   "source": [
    "# Si no se indica delante nada el inicio es implícito\n",
    "print(b[:10])"
   ]
  },
  {
   "cell_type": "code",
   "execution_count": 125,
   "metadata": {},
   "outputs": [
    {
     "name": "stdout",
     "output_type": "stream",
     "text": [
      "[9 3 2 4 5 7 9 5 4 3 5 8 0 2]\n"
     ]
    }
   ],
   "source": [
    "# Desde una posición hasta el final\n",
    "print(b[5:])"
   ]
  },
  {
   "cell_type": "markdown",
   "metadata": {},
   "source": [
    "Obtener una fila completa de un array"
   ]
  },
  {
   "cell_type": "code",
   "execution_count": 135,
   "metadata": {},
   "outputs": [
    {
     "name": "stdout",
     "output_type": "stream",
     "text": [
      "[[ 1  2  3  4  5]\n",
      " [ 6  7  8  9 10]]\n"
     ]
    }
   ],
   "source": [
    "c = np.array([[1,2,3,4,5],[6,7,8,9,10]])\n",
    "print(c)"
   ]
  },
  {
   "cell_type": "code",
   "execution_count": 149,
   "metadata": {},
   "outputs": [
    {
     "data": {
      "text/plain": [
       "7"
      ]
     },
     "execution_count": 149,
     "metadata": {},
     "output_type": "execute_result"
    }
   ],
   "source": [
    "# Obtener un elemento en 2d\n",
    "# se selecciona [fila, columna]\n",
    "c[1,1]"
   ]
  },
  {
   "cell_type": "code",
   "execution_count": 140,
   "metadata": {},
   "outputs": [
    {
     "name": "stdout",
     "output_type": "stream",
     "text": [
      "[ 6  7  8  9 10]\n"
     ]
    }
   ],
   "source": [
    "# Obtener segunda fila\n",
    "print(c[1,:])"
   ]
  },
  {
   "cell_type": "markdown",
   "metadata": {},
   "source": [
    "Obtener una columna completa de un array"
   ]
  },
  {
   "cell_type": "code",
   "execution_count": 151,
   "metadata": {},
   "outputs": [
    {
     "name": "stdout",
     "output_type": "stream",
     "text": [
      "[3 8]\n",
      "[[3]\n",
      " [8]]\n"
     ]
    }
   ],
   "source": [
    "print(c[:,2])\n",
    "\n",
    "# Cambiar forma del array\n",
    "print(c[:,2].reshape(2,1))"
   ]
  },
  {
   "cell_type": "markdown",
   "metadata": {},
   "source": [
    "Otras formas de acceder a los elementos de un array"
   ]
  },
  {
   "cell_type": "code",
   "execution_count": 152,
   "metadata": {},
   "outputs": [
    {
     "name": "stdout",
     "output_type": "stream",
     "text": [
      "[[ 1  3  5]\n",
      " [ 6  8 10]]\n",
      "[[ 1  3  5]\n",
      " [ 6  8 10]]\n"
     ]
    }
   ],
   "source": [
    "# Elemetos en posiciones pares de todas las filas\n",
    "print(c[:, 0::2 ])\n",
    "print(c[:, ::2])"
   ]
  },
  {
   "cell_type": "code",
   "execution_count": 169,
   "metadata": {},
   "outputs": [
    {
     "name": "stdout",
     "output_type": "stream",
     "text": [
      "[[ 0  1  2  3]\n",
      " [ 4  5  6  7]\n",
      " [ 8  9 10 11]\n",
      " [12 13 14 15]\n",
      " [16 17 18 19]\n",
      " [20 21 22 23]\n",
      " [24 25 26 27]\n",
      " [28 29 30 31]\n",
      " [32 33 34 35]\n",
      " [36 37 38 39]]\n",
      "[[ 0  1  2  3]\n",
      " [ 4  5  6  7]\n",
      " [ 8  9 10 11]\n",
      " [12 13 14 15]\n",
      " [16 17 18 19]\n",
      " [20 21 22 23]\n",
      " [24 25 26 27]\n",
      " [28 29 30 31]\n",
      " [32 33 34 35]\n",
      " [36 37 38 39]]\n",
      "[[ 0  1  2  3]\n",
      " [ 4  5  6  7]\n",
      " [ 8  9 10 11]\n",
      " [12 13 14 15]\n",
      " [16 17 18 19]\n",
      " [20 21 22 23]\n",
      " [24 25 26 27]\n",
      " [28 29 30 31]\n",
      " [32 33 34 35]\n",
      " [36 37 38 39]]\n",
      "[ 0  1  2  3  4  5  6  7  8  9 10 11 12 13 14 15 16 17 18 19 20 21 22 23\n",
      " 24 25 26 27 28 29 30 31 32 33 34 35 36 37 38 39]\n"
     ]
    }
   ],
   "source": [
    "d = np.arange(40).reshape(10,4)\n",
    "print(d)\n",
    "\n",
    "# esto es lo mismo\n",
    "d = np.arange(40)\n",
    "d_reshape = d.reshape(10,4)\n",
    "print(d_reshape)\n",
    "\n",
    "# reshape en el print (no se modifica d)\n",
    "d = np.arange(40)\n",
    "print(d.reshape(10,4))"
   ]
  },
  {
   "cell_type": "markdown",
   "metadata": {},
   "source": [
    "Actualizar un elemento de un array"
   ]
  },
  {
   "cell_type": "code",
   "execution_count": 172,
   "metadata": {},
   "outputs": [
    {
     "name": "stdout",
     "output_type": "stream",
     "text": [
      "[[ 0  1  2  3]\n",
      " [ 4  5  6  7]\n",
      " [ 8  9 10 11]\n",
      " [12 13 14 15]\n",
      " [16 17 18 19]\n",
      " [20 21 22 23]\n",
      " [24 25 26 27]\n",
      " [28 29 30 31]\n",
      " [32 33 34 35]\n",
      " [36 37 38 39]]\n"
     ]
    }
   ],
   "source": [
    "# Definir un array de una dimension y hacer el reshape (10,4)\n",
    "e = np.arange(40).reshape(10,4)\n",
    "print(e)"
   ]
  },
  {
   "cell_type": "code",
   "execution_count": 176,
   "metadata": {},
   "outputs": [
    {
     "name": "stdout",
     "output_type": "stream",
     "text": [
      "[[99  1  2  3]\n",
      " [ 4  5  6  7]\n",
      " [ 8  9 10 11]\n",
      " [12 13 14 15]\n",
      " [16 17 18 19]\n",
      " [20 21 22 23]\n",
      " [24 25 26 27]\n",
      " [28 29 30 31]\n",
      " [32 33 34 35]\n",
      " [36 37 38 39]]\n"
     ]
    }
   ],
   "source": [
    "# Establecer la pos (0,0) a 99\n",
    "e[0,0] = 99\n",
    "print(e)"
   ]
  },
  {
   "cell_type": "code",
   "execution_count": 180,
   "metadata": {},
   "outputs": [
    {
     "name": "stdout",
     "output_type": "stream",
     "text": [
      "[[99  1  2  3]\n",
      " [ 4  5  6  7]\n",
      " [ 8  0 10 11]\n",
      " [12 13 14 15]\n",
      " [16 17 18 19]\n",
      " [20 21 22 23]\n",
      " [24 25 26 27]\n",
      " [28 29 30 31]\n",
      " [32 33 34 35]\n",
      " [36 37 38 39]]\n"
     ]
    }
   ],
   "source": [
    "# Establecer la posición (2,1) a 0\n",
    "e[2,1] = 0\n",
    "print(e)"
   ]
  },
  {
   "cell_type": "code",
   "execution_count": 182,
   "metadata": {},
   "outputs": [
    {
     "name": "stdout",
     "output_type": "stream",
     "text": [
      "[[99  1  2  3]\n",
      " [ 4  5  6  7]\n",
      " [ 8  0 10 11]\n",
      " [12 13 14 15]\n",
      " [16 17 18 19]\n",
      " [20 21 22 23]\n",
      " [24 25 26 27]\n",
      " [28 29 30 31]\n",
      " [32 33 34 35]\n",
      " [ 0  0  0  0]]\n"
     ]
    }
   ],
   "source": [
    "# Establecer la última fila a 0\n",
    "e[-1,:] = 0\n",
    "print(e)"
   ]
  },
  {
   "cell_type": "code",
   "execution_count": 184,
   "metadata": {},
   "outputs": [
    {
     "name": "stdout",
     "output_type": "stream",
     "text": [
      "[[99  1  2  3]\n",
      " [ 4  5  6  7]\n",
      " [ 8  0 10 11]\n",
      " [12 13 14 15]\n",
      " [16 17 18 19]\n",
      " [20 21 22 23]\n",
      " [24 25 26 27]\n",
      " [28 29 30 31]\n",
      " [32 33 34 35]\n",
      " [ 1  2  3  4]]\n"
     ]
    }
   ],
   "source": [
    "# Establecer la última fila a [1,2,3,4]\n",
    "e[-1,:] = [1,2,3,4]\n",
    "print(e)"
   ]
  },
  {
   "cell_type": "code",
   "execution_count": 186,
   "metadata": {},
   "outputs": [
    {
     "name": "stdout",
     "output_type": "stream",
     "text": [
      "[[99  1  2  3]\n",
      " [ 4  5  6  7]\n",
      " [ 8  0 10 11]\n",
      " [12 13 14 15]\n",
      " [16 17 18 19]\n",
      " [20 21 22 23]\n",
      " [24 25 26 27]\n",
      " [28 29 30 31]\n",
      " [32 33 34 35]\n",
      " [16 17 18 19]]\n"
     ]
    }
   ],
   "source": [
    "# Copiar la fila 4 en la última fila\n",
    "e[-1,:] = e[4,:]\n",
    "print(e)"
   ]
  },
  {
   "cell_type": "code",
   "execution_count": 261,
   "metadata": {},
   "outputs": [
    {
     "name": "stdout",
     "output_type": "stream",
     "text": [
      "[[99  1  2 99]\n",
      " [ 1  5  6  1]\n",
      " [ 2  0 10  2]\n",
      " [99 13 14 99]\n",
      " [16  1  2 16]\n",
      " [20  3  4 20]\n",
      " [24 25 26 24]\n",
      " [28 29 30 28]\n",
      " [32 33 34 32]\n",
      " [16 17 18 16]]\n"
     ]
    }
   ],
   "source": [
    "# Copia la primera columna en la úlitma fila\n",
    "e[:,-1] = e[:,0]\n",
    "print(e)"
   ]
  },
  {
   "cell_type": "code",
   "execution_count": 195,
   "metadata": {},
   "outputs": [
    {
     "name": "stdout",
     "output_type": "stream",
     "text": [
      "[[99  1  2 99]\n",
      " [ 4  5  6  4]\n",
      " [ 8  0 10  8]\n",
      " [12 13 14 12]\n",
      " [16  0  0 16]\n",
      " [20  0  0 20]\n",
      " [24 25 26 24]\n",
      " [28 29 30 28]\n",
      " [32 33 34 32]\n",
      " [16 17 18 16]]\n"
     ]
    }
   ],
   "source": [
    "# establece a cero una seccion de (2,2)\n",
    "e[4:6,1:3] = 0\n",
    "print(e)"
   ]
  },
  {
   "cell_type": "code",
   "execution_count": 262,
   "metadata": {},
   "outputs": [
    {
     "name": "stdout",
     "output_type": "stream",
     "text": [
      "[[99  1  2 99]\n",
      " [ 1  5  6  1]\n",
      " [ 2  0 10  2]\n",
      " [99 13 14 99]\n",
      " [16  1  2 16]\n",
      " [20  3  4 20]\n",
      " [24 25 26 24]\n",
      " [28 29 30 28]\n",
      " [32 33 34 32]\n",
      " [16 17 18 16]]\n"
     ]
    }
   ],
   "source": [
    "# Introduce el [[1,2],[3,4]] en la cuarta fila\n",
    "e[4:6,1:3] = np.array([1,2,3,4]).reshape(2,2)\n",
    "print(e)"
   ]
  },
  {
   "cell_type": "code",
   "execution_count": 204,
   "metadata": {},
   "outputs": [
    {
     "name": "stdout",
     "output_type": "stream",
     "text": [
      "[[99  1  2 99]\n",
      " [ 1  5  6  4]\n",
      " [ 2  0 10  8]\n",
      " [99 13 14 12]\n",
      " [16  1  2 16]\n",
      " [20  3  4 20]\n",
      " [24 25 26 24]\n",
      " [28 29 30 28]\n",
      " [32 33 34 32]\n",
      " [16 17 18 16]]\n"
     ]
    }
   ],
   "source": [
    "# Copia la primera fila sobre la primera columna\n",
    "e[0:4,0] = e[0,:]\n",
    "print(e)"
   ]
  },
  {
   "cell_type": "markdown",
   "metadata": {},
   "source": [
    "Ejercicios"
   ]
  },
  {
   "cell_type": "code",
   "execution_count": null,
   "metadata": {},
   "outputs": [],
   "source": [
    "'''\n",
    "Define un array 's' de tamaño 10 y selecciona el valor de la posición 5\n",
    "'''"
   ]
  },
  {
   "cell_type": "code",
   "execution_count": null,
   "metadata": {},
   "outputs": [],
   "source": [
    "'''\n",
    "Sobre el array s, selecciona el valor 5\n",
    "'''"
   ]
  },
  {
   "cell_type": "code",
   "execution_count": null,
   "metadata": {},
   "outputs": [],
   "source": [
    "'''\n",
    "Define el array 's' de tamaño 25 y selecciona los valores pares\n",
    "'''"
   ]
  },
  {
   "cell_type": "code",
   "execution_count": null,
   "metadata": {},
   "outputs": [],
   "source": [
    "'''\n",
    "Define el array 's' de tamaño 25 y selecciona los valores impares\n",
    "'''"
   ]
  },
  {
   "cell_type": "code",
   "execution_count": null,
   "metadata": {},
   "outputs": [],
   "source": [
    "'''\n",
    "Sobre el array s, selecciona el uĺltimo valor\n",
    "'''"
   ]
  },
  {
   "cell_type": "code",
   "execution_count": null,
   "metadata": {},
   "outputs": [],
   "source": [
    "\"\"\"\n",
    "Define el array 's' de tamaño 20 e invierte el orden de los valores\n",
    "\"\"\""
   ]
  },
  {
   "cell_type": "code",
   "execution_count": null,
   "metadata": {},
   "outputs": [],
   "source": [
    "'''\n",
    "Define un array s2 multidimensional de tamaño 2x2 y selecciona el valor de la segunda fila y la segunda columna\n",
    "'''"
   ]
  },
  {
   "cell_type": "code",
   "execution_count": null,
   "metadata": {},
   "outputs": [],
   "source": [
    "'''\n",
    "Define el array:\n",
    "[\n",
    "[[1, 2], [3, 4]]\n",
    "[[5, 6], [7, 8]]\n",
    "]\n",
    "y selecciona el valor de la segunda dimension, primera fila, segunda columna\n",
    "'''"
   ]
  },
  {
   "cell_type": "code",
   "execution_count": null,
   "metadata": {},
   "outputs": [],
   "source": [
    "'''\n",
    "Define un array s4 de tamaño 4x4x3 y establece los números centrales a 99\n",
    "'''"
   ]
  },
  {
   "cell_type": "code",
   "execution_count": 12,
   "metadata": {},
   "outputs": [
    {
     "name": "stdout",
     "output_type": "stream",
     "text": [
      "[[[ 0  1  2]\n",
      "  [ 3  0  5]\n",
      "  [ 6  1  8]\n",
      "  [ 9 10 11]]\n",
      "\n",
      " [[12 13 14]\n",
      "  [15  2 17]\n",
      "  [18  3 20]\n",
      "  [21 22 23]]\n",
      "\n",
      " [[24 25 26]\n",
      "  [27  4 29]\n",
      "  [30  5 32]\n",
      "  [33 34 35]]\n",
      "\n",
      " [[36 37 38]\n",
      "  [39  6 41]\n",
      "  [42  7 44]\n",
      "  [45 46 47]]]\n"
     ]
    }
   ],
   "source": [
    "'''\n",
    "Define un array s4 de tamaño 4x4x3 y establece los números centrales a (0,1), (2,3), (4,5), (6,7)\n",
    "'''\n",
    "s4 = np.arange(48).reshape(4,4,3)\n",
    "s4[:,1:-1,1] = np.arange(8).reshape(4,2)\n",
    "print(s4)"
   ]
  },
  {
   "cell_type": "markdown",
   "metadata": {},
   "source": [
    "## Inicializando diferentes tipos de arrays"
   ]
  },
  {
   "cell_type": "markdown",
   "metadata": {},
   "source": [
    "Matriz de ceros"
   ]
  },
  {
   "cell_type": "code",
   "execution_count": 220,
   "metadata": {},
   "outputs": [
    {
     "name": "stdout",
     "output_type": "stream",
     "text": [
      "[0. 0. 0. 0. 0. 0. 0. 0. 0. 0.]\n"
     ]
    }
   ],
   "source": [
    "# podemos inicializar con valor (1dimensión) o shape(n dimensiones)\n",
    "ceros = np.zeros(10)\n",
    "print(ceros)"
   ]
  },
  {
   "cell_type": "markdown",
   "metadata": {},
   "source": [
    "Matriz de unos"
   ]
  },
  {
   "cell_type": "code",
   "execution_count": 259,
   "metadata": {},
   "outputs": [
    {
     "name": "stdout",
     "output_type": "stream",
     "text": [
      "[[1. 1. 1. 1. 1.]\n",
      " [1. 1. 1. 1. 1.]\n",
      " [1. 1. 1. 1. 1.]\n",
      " [1. 1. 1. 1. 1.]\n",
      " [1. 1. 1. 1. 1.]\n",
      " [1. 1. 1. 1. 1.]\n",
      " [1. 1. 1. 1. 1.]\n",
      " [1. 1. 1. 1. 1.]\n",
      " [1. 1. 1. 1. 1.]\n",
      " [1. 1. 1. 1. 1.]]\n"
     ]
    }
   ],
   "source": [
    "unos = np.ones((10,5))\n",
    "print(unos)"
   ]
  },
  {
   "cell_type": "markdown",
   "metadata": {},
   "source": [
    "Matriz de valores concretos"
   ]
  },
  {
   "cell_type": "code",
   "execution_count": 211,
   "metadata": {},
   "outputs": [
    {
     "name": "stdout",
     "output_type": "stream",
     "text": [
      "[[99 99 99]\n",
      " [99 99 99]\n",
      " [99 99 99]]\n"
     ]
    }
   ],
   "source": [
    "valores = np.full((3,3), 99 )\n",
    "print(valores)"
   ]
  },
  {
   "cell_type": "markdown",
   "metadata": {},
   "source": [
    "Matriz de valores concretos (full like)"
   ]
  },
  {
   "cell_type": "code",
   "execution_count": 228,
   "metadata": {},
   "outputs": [
    {
     "name": "stdout",
     "output_type": "stream",
     "text": [
      "[[13 13 13]\n",
      " [13 13 13]\n",
      " [13 13 13]]\n",
      "[[99 99 99]\n",
      " [99 99 99]\n",
      " [99 99 99]]\n"
     ]
    }
   ],
   "source": [
    "# Copia el shape de otro array y lo rellena con el valor dado\n",
    "full_like = np.full_like(valores, 13)\n",
    "print(full_like)\n",
    "print(valores)"
   ]
  },
  {
   "cell_type": "markdown",
   "metadata": {},
   "source": [
    "Matriz de números aleatorios"
   ]
  },
  {
   "cell_type": "code",
   "execution_count": 231,
   "metadata": {},
   "outputs": [
    {
     "name": "stdout",
     "output_type": "stream",
     "text": [
      "[0.20029645 0.54616436 0.66673358 0.45113058 0.08482192 0.23543459\n",
      " 0.40605832 0.9751584  0.67046319 0.10525014 0.28186645 0.91514665\n",
      " 0.35744401 0.93814664 0.63907633 0.837339   0.39175088 0.60401733\n",
      " 0.11857797 0.05342424]\n"
     ]
    }
   ],
   "source": [
    "aleatorios = np.random.rand(20)\n",
    "print(aleatorios)"
   ]
  },
  {
   "cell_type": "code",
   "execution_count": 233,
   "metadata": {},
   "outputs": [
    {
     "name": "stdout",
     "output_type": "stream",
     "text": [
      "[[0.77701254 0.06248942 0.75925363]\n",
      " [0.42360044 0.53030515 0.92454471]\n",
      " [0.06027024 0.49223403 0.0220057 ]\n",
      " [0.32744674 0.57580944 0.42106464]]\n"
     ]
    }
   ],
   "source": [
    "# Números aleatorios entre 0 y 1 en una matriz sde (4,3)\n",
    "f = np.random.rand(4,3)\n",
    "print(f)"
   ]
  },
  {
   "cell_type": "code",
   "execution_count": 237,
   "metadata": {},
   "outputs": [
    {
     "name": "stdout",
     "output_type": "stream",
     "text": [
      "[88 80 80 38 57 54 24 53 44 25]\n"
     ]
    }
   ],
   "source": [
    "# Numeros aleatorios de 0 a 100 en una matriz de 1d de tamaño 10\n",
    "g = np.random.randint(100, size=10 )\n",
    "print(g)"
   ]
  },
  {
   "cell_type": "code",
   "execution_count": 246,
   "metadata": {},
   "outputs": [
    {
     "name": "stdout",
     "output_type": "stream",
     "text": [
      "[[85 99]\n",
      " [76 97]\n",
      " [78 76]\n",
      " [96 63]]\n"
     ]
    }
   ],
   "source": [
    "# Números aleatorios de 50 a 100 en una matriz de 2d de tamaño (4,2)\n",
    "h = np.random.randint(50,100, size=(4,2))\n",
    "print(h)"
   ]
  },
  {
   "cell_type": "code",
   "execution_count": 248,
   "metadata": {},
   "outputs": [
    {
     "name": "stdout",
     "output_type": "stream",
     "text": [
      "[[[45 40]\n",
      "  [40 40]\n",
      "  [46 47]]\n",
      "\n",
      " [[47 41]\n",
      "  [42 45]\n",
      "  [46 48]]\n",
      "\n",
      " [[43 49]\n",
      "  [42 49]\n",
      "  [41 42]]\n",
      "\n",
      " [[46 49]\n",
      "  [43 49]\n",
      "  [40 49]]]\n"
     ]
    }
   ],
   "source": [
    "# Números aleatorios de 40 a 50 en una matriz de 3d de tamaño (4,3,2)\n",
    "j = np.random.randint(40,50, size=(4,3,2))\n",
    "print(j)"
   ]
  },
  {
   "cell_type": "markdown",
   "metadata": {},
   "source": [
    "Matriz identidad"
   ]
  },
  {
   "cell_type": "code",
   "execution_count": 260,
   "metadata": {},
   "outputs": [
    {
     "name": "stdout",
     "output_type": "stream",
     "text": [
      "[[1. 0. 0. 0. 0.]\n",
      " [0. 1. 0. 0. 0.]\n",
      " [0. 0. 1. 0. 0.]\n",
      " [0. 0. 0. 1. 0.]\n",
      " [0. 0. 0. 0. 1.]]\n"
     ]
    }
   ],
   "source": [
    "identidad = np.identity(5)\n",
    "print(identidad)"
   ]
  },
  {
   "cell_type": "markdown",
   "metadata": {},
   "source": [
    "Ejercicios"
   ]
  },
  {
   "cell_type": "code",
   "execution_count": null,
   "metadata": {},
   "outputs": [],
   "source": [
    "'''\n",
    "Define el array z de dim 1 completo de ceros\n",
    "'''"
   ]
  },
  {
   "cell_type": "code",
   "execution_count": null,
   "metadata": {},
   "outputs": [],
   "source": [
    "'''\n",
    "Define un array z de dim 8x8 completo de ceros\n",
    "'''"
   ]
  },
  {
   "cell_type": "code",
   "execution_count": null,
   "metadata": {},
   "outputs": [],
   "source": [
    "'''\n",
    "Define el array 'z' completo de ceros de n dim\n",
    "'''"
   ]
  },
  {
   "cell_type": "code",
   "execution_count": null,
   "metadata": {},
   "outputs": [],
   "source": [
    "'''\n",
    "Define el array 'd' completo de unos de n dim\n",
    "'''"
   ]
  },
  {
   "cell_type": "code",
   "execution_count": null,
   "metadata": {},
   "outputs": [],
   "source": [
    "'''\n",
    "Define un array como el que se muestra a continuación:\n",
    "[[0. 0. 0. 0. 0. 0. 0. 0.]\n",
    " [0. 1. 1. 1. 1. 1. 1. 0.]\n",
    " [0. 1. 1. 1. 1. 1. 1. 0.]\n",
    " [0. 1. 1. 1. 1. 1. 1. 0.]\n",
    " [0. 1. 1. 1. 1. 1. 1. 0.]\n",
    " [0. 1. 1. 1. 1. 1. 1. 0.]\n",
    " [0. 1. 1. 1. 1. 1. 1. 0.]\n",
    " [0. 0. 0. 0. 0. 0. 0. 0.]]\n",
    "'''"
   ]
  },
  {
   "cell_type": "code",
   "execution_count": null,
   "metadata": {},
   "outputs": [],
   "source": [
    "'''\n",
    "Define un array 'g' conun range de 0 a 10 de dim 2\n",
    "'''"
   ]
  },
  {
   "cell_type": "code",
   "execution_count": null,
   "metadata": {},
   "outputs": [],
   "source": [
    "'''\n",
    "Define un array 'h' con un range de 0 a 100 con un paso de 5 y una dim difrente de 1\n",
    "'''"
   ]
  },
  {
   "cell_type": "markdown",
   "metadata": {},
   "source": [
    "## Operaciones con arrays"
   ]
  },
  {
   "cell_type": "markdown",
   "metadata": {},
   "source": [
    "operaciones básicas"
   ]
  },
  {
   "cell_type": "code",
   "execution_count": 16,
   "metadata": {},
   "outputs": [
    {
     "name": "stdout",
     "output_type": "stream",
     "text": [
      "[3 4 5 6 7]\n"
     ]
    }
   ],
   "source": [
    "# listas python\n",
    "\n",
    "# [1,2,3,4,5] + 2 -> da error no se pueden sumar\n",
    "\n",
    "# ndarrays numpy\n",
    "\n",
    "a = np.array([1, 2, 3, 4, 5])\n",
    "print(a + 2)\n"
   ]
  },
  {
   "cell_type": "code",
   "execution_count": 18,
   "metadata": {},
   "outputs": [
    {
     "name": "stdout",
     "output_type": "stream",
     "text": [
      "[-1  0  1  2  3]\n"
     ]
    }
   ],
   "source": [
    "a = np.array([1, 2, 3, 4, 5])\n",
    "print(a - 2)"
   ]
  },
  {
   "cell_type": "code",
   "execution_count": 34,
   "metadata": {},
   "outputs": [
    {
     "name": "stdout",
     "output_type": "stream",
     "text": [
      "Listas python:  [1, 2, 3, 4, 5, 6, 7, 8, 9, 10]\n",
      "Numpy arrays:  [ 7  9 11 13 15]\n"
     ]
    }
   ],
   "source": [
    "# Sumar dos listas\n",
    "a = [1,2,3,4,5]\n",
    "b = [6,7,8,9,10]\n",
    "print('Listas python: ', a + b)\n",
    "\n",
    "# Suma de arrays\n",
    "a = np.array([1,2,3,4, 5])\n",
    "b = np.array([6,7,8,9,10])\n",
    "print('Numpy arrays: ',a + b)\n"
   ]
  },
  {
   "cell_type": "code",
   "execution_count": 121,
   "metadata": {},
   "outputs": [
    {
     "name": "stdout",
     "output_type": "stream",
     "text": [
      "[ 2  4  6  8 10]\n"
     ]
    }
   ],
   "source": [
    "# multiplicación escalar\n",
    "a = np.array([1,2,3,4, 5])\n",
    "print(a * 2)\n"
   ]
  },
  {
   "cell_type": "code",
   "execution_count": 123,
   "metadata": {},
   "outputs": [
    {
     "name": "stdout",
     "output_type": "stream",
     "text": [
      "[1 2 3 4 5]\n",
      "[ 1  4  9 16 25]\n"
     ]
    }
   ],
   "source": [
    "# Elevar los elementos al cuadrado\n",
    "a = np.array([1,2,3,4, 5])\n",
    "print(a)\n",
    "print( a ** 2)"
   ]
  },
  {
   "cell_type": "code",
   "execution_count": 24,
   "metadata": {},
   "outputs": [],
   "source": [
    "# Si ambos array no son tiene el mismo shape no se pueden operar\n",
    "a = np.array([1,2,3,4])\n",
    "b = np.array([6,7,8,9,10])\n",
    "#a + b"
   ]
  },
  {
   "cell_type": "code",
   "execution_count": 126,
   "metadata": {},
   "outputs": [
    {
     "name": "stdout",
     "output_type": "stream",
     "text": [
      "[[0 1 2]\n",
      " [3 4 5]\n",
      " [6 7 8]] \n",
      "\n",
      "[[ 9 10 11]\n",
      " [12 13 14]\n",
      " [15 16 17]] \n",
      "\n",
      "[[ 9 11 13]\n",
      " [15 17 19]\n",
      " [21 23 25]]\n"
     ]
    }
   ],
   "source": [
    "# 2dimensiones\n",
    "c = np.arange(9).reshape(3,3)\n",
    "d = np.arange(9,18).reshape(3,3)\n",
    "print(c,'\\n')\n",
    "print(d, '\\n')\n",
    "print(c+d)"
   ]
  },
  {
   "cell_type": "code",
   "execution_count": 38,
   "metadata": {},
   "outputs": [
    {
     "name": "stdout",
     "output_type": "stream",
     "text": [
      "[[0 1 2]\n",
      " [3 4 5]\n",
      " [6 7 8]]\n",
      "[[ 9 10 11]\n",
      " [12 13 14]\n",
      " [15 16 17]]\n",
      "[[ 42  45  48]\n",
      " [150 162 174]\n",
      " [258 279 300]]\n",
      "[[ 42  45  48]\n",
      " [150 162 174]\n",
      " [258 279 300]]\n",
      "[[ 42  45  48]\n",
      " [150 162 174]\n",
      " [258 279 300]]\n"
     ]
    }
   ],
   "source": [
    "# Multiplicación de matrices\n",
    "# Ejemplo:\n",
    "c = np.arange(9).reshape(3,3)\n",
    "d = np.arange(9,18).reshape(3,3)\n",
    "print(c)\n",
    "print(d)\n",
    "\n",
    "# multiplica: \n",
    "# [0,0] = c[0,0] * d[0,0] + c[1,0] * d[0,1] + c[2,0] * d[0,2]\n",
    "#               0                  12            30\n",
    "\n",
    "print(np.matmul(c,d))\n",
    "# Otras formas:\n",
    "print( c.dot(d))\n",
    "print( c @ d ) \n"
   ]
  },
  {
   "cell_type": "code",
   "execution_count": 45,
   "metadata": {},
   "outputs": [
    {
     "name": "stdout",
     "output_type": "stream",
     "text": [
      "[[ 0  1  2  3]\n",
      " [ 4  5  6  7]\n",
      " [ 8  9 10 11]\n",
      " [12 13 14 15]\n",
      " [16 17 18 19]\n",
      " [20 21 22 23]]\n",
      "[[ 0  4  8 12 16 20]\n",
      " [ 1  5  9 13 17 21]\n",
      " [ 2  6 10 14 18 22]\n",
      " [ 3  7 11 15 19 23]]\n"
     ]
    }
   ],
   "source": [
    "# Obtener la matrix traspuesta\n",
    "e = np.arange(24).reshape(6,4)\n",
    "print(e)\n",
    "print(np.transpose(e))"
   ]
  },
  {
   "cell_type": "markdown",
   "metadata": {},
   "source": [
    "Ejercicios"
   ]
  },
  {
   "cell_type": "code",
   "execution_count": null,
   "metadata": {},
   "outputs": [],
   "source": [
    "'''\n",
    "Define un array 'a' de tamaño 4 y un array 'b' de tamaño 4 completo de 1s. A contunuación suma los valores de ambos arrays y comprueba que los valores son correctos.\n",
    "'''"
   ]
  },
  {
   "cell_type": "code",
   "execution_count": null,
   "metadata": {},
   "outputs": [],
   "source": [
    "'''\n",
    "Define un array 'a' de tamaño 4 y un array 'b' de tamaño 4 completo de 1s. A contunuación resta los valores de ambos arrays y comprueba que los valores son correctos.\n",
    "'''"
   ]
  },
  {
   "cell_type": "code",
   "execution_count": null,
   "metadata": {},
   "outputs": [],
   "source": [
    "'''\n",
    "Define un array 'a' de tamaño 4 y un array 'b' de tamaño 4 completo de 2s. A contunuación multiplica o divide los valores de ambos arrays y comprueba que los valores son correctos.\n",
    "'''"
   ]
  },
  {
   "cell_type": "markdown",
   "metadata": {},
   "source": [
    "Álgebra lineal"
   ]
  },
  {
   "cell_type": "code",
   "execution_count": null,
   "metadata": {},
   "outputs": [],
   "source": []
  },
  {
   "cell_type": "markdown",
   "metadata": {},
   "source": [
    "Estadísticas"
   ]
  },
  {
   "cell_type": "markdown",
   "metadata": {},
   "source": [
    "operaciones con arrays:\n",
    "- **np.sum():** Suma de todos los elementos de un array\n",
    "- **np.mean():** Media de todos los elementos de un array\n",
    "- **np.std():** Desviación estándar de todos los elementos de un array\n",
    "- **np.var():** Varianza de todos los elementos de un array\n",
    "- **np.min():** Valor mínimo de todos los elementos de un array\n",
    "- **np.max():** Valor máximo de todos los elementos de un array\n",
    "- **np.flip():** Inversa de un array\n"
   ]
  },
  {
   "cell_type": "code",
   "execution_count": 47,
   "metadata": {},
   "outputs": [
    {
     "name": "stdout",
     "output_type": "stream",
     "text": [
      "[[ 0  1  2  3]\n",
      " [ 4  5  6  7]\n",
      " [ 8  9 10 11]\n",
      " [12 13 14 15]\n",
      " [16 17 18 19]\n",
      " [20 21 22 23]]\n"
     ]
    }
   ],
   "source": [
    "a = np.arange(24).reshape(6,4)\n",
    "print(a)"
   ]
  },
  {
   "cell_type": "code",
   "execution_count": 49,
   "metadata": {},
   "outputs": [
    {
     "data": {
      "text/plain": [
       "276"
      ]
     },
     "execution_count": 49,
     "metadata": {},
     "output_type": "execute_result"
    }
   ],
   "source": [
    "# sumatorio\n",
    "sumatorio = np.sum(a)\n",
    "sumatorio"
   ]
  },
  {
   "cell_type": "code",
   "execution_count": 54,
   "metadata": {},
   "outputs": [
    {
     "name": "stdout",
     "output_type": "stream",
     "text": [
      "6\n"
     ]
    }
   ],
   "source": [
    "# sumatorio de la primera fila\n",
    "primera_fila = a[0,:]\n",
    "sumatorio_primera_fila = np.sum(primera_fila)\n",
    "sumatorio_primera_fila\n",
    "# Otra forma\n",
    "print(np.sum(a[0,:]))"
   ]
  },
  {
   "cell_type": "code",
   "execution_count": 56,
   "metadata": {},
   "outputs": [
    {
     "data": {
      "text/plain": [
       "11.5"
      ]
     },
     "execution_count": 56,
     "metadata": {},
     "output_type": "execute_result"
    }
   ],
   "source": [
    "# Promedio de los valores\n",
    "promedio = np.mean(a)\n",
    "promedio"
   ]
  },
  {
   "cell_type": "code",
   "execution_count": 58,
   "metadata": {},
   "outputs": [
    {
     "name": "stdout",
     "output_type": "stream",
     "text": [
      "10.0\n"
     ]
    }
   ],
   "source": [
    "# promerio de la primera columna\n",
    "print(np.mean(a[:,0]))"
   ]
  },
  {
   "cell_type": "code",
   "execution_count": 62,
   "metadata": {},
   "outputs": [
    {
     "data": {
      "text/plain": [
       "0"
      ]
     },
     "execution_count": 62,
     "metadata": {},
     "output_type": "execute_result"
    }
   ],
   "source": [
    "# mínimo valor de una matriz\n",
    "minimo = np.min(a)\n",
    "minimo"
   ]
  },
  {
   "cell_type": "code",
   "execution_count": 65,
   "metadata": {},
   "outputs": [
    {
     "data": {
      "text/plain": [
       "23"
      ]
     },
     "execution_count": 65,
     "metadata": {},
     "output_type": "execute_result"
    }
   ],
   "source": [
    "# máximo de una matriz\n",
    "maximo = np.max(a)\n",
    "maximo"
   ]
  },
  {
   "cell_type": "code",
   "execution_count": 74,
   "metadata": {},
   "outputs": [
    {
     "data": {
      "text/plain": [
       "23"
      ]
     },
     "execution_count": 74,
     "metadata": {},
     "output_type": "execute_result"
    }
   ],
   "source": [
    "# máximo de una seccion de array\n",
    "max_seccion = np.max(a[1:,:])\n",
    "max_seccion"
   ]
  },
  {
   "cell_type": "code",
   "execution_count": 77,
   "metadata": {},
   "outputs": [
    {
     "name": "stdout",
     "output_type": "stream",
     "text": [
      "[0 1 2 3 4 5 6 7 8 9]\n",
      "[9 8 7 6 5 4 3 2 1 0]\n"
     ]
    }
   ],
   "source": [
    "# flip 1d\n",
    "a = np.arange(10)\n",
    "print(a)\n",
    "print(np.flip(a))"
   ]
  },
  {
   "cell_type": "code",
   "execution_count": 84,
   "metadata": {},
   "outputs": [
    {
     "name": "stdout",
     "output_type": "stream",
     "text": [
      "[[ 0  1  2  3]\n",
      " [ 4  5  6  7]\n",
      " [ 8  9 10 11]\n",
      " [12 13 14 15]\n",
      " [16 17 18 19]\n",
      " [20 21 22 23]] \n",
      "\n",
      "[[23 22 21 20]\n",
      " [19 18 17 16]\n",
      " [15 14 13 12]\n",
      " [11 10  9  8]\n",
      " [ 7  6  5  4]\n",
      " [ 3  2  1  0]] \n",
      "\n",
      "Traspuesta:\n",
      " [[ 0  4  8 12 16 20]\n",
      " [ 1  5  9 13 17 21]\n",
      " [ 2  6 10 14 18 22]\n",
      " [ 3  7 11 15 19 23]]\n"
     ]
    }
   ],
   "source": [
    "a = np.arange(24).reshape(6,4)\n",
    "print(a,'\\n')\n",
    "print(np.flip(a),'\\n')\n",
    "print('Traspuesta:\\n', np.transpose(a))\n"
   ]
  },
  {
   "cell_type": "markdown",
   "metadata": {},
   "source": [
    "### Reorganizando matrices"
   ]
  },
  {
   "cell_type": "code",
   "execution_count": 91,
   "metadata": {},
   "outputs": [
    {
     "name": "stdout",
     "output_type": "stream",
     "text": [
      "[0.25366325 0.62815683 0.15480888 0.03337842 0.392229   0.72311053\n",
      " 0.67442362 0.9095328  0.93173654 0.3733687  0.60256391 0.43539933\n",
      " 0.66404101 0.41980805 0.71668982 0.39710375 0.05495269 0.05048192\n",
      " 0.02365273 0.14255564 0.36734444 0.82494767 0.10045144 0.09293812\n",
      " 0.91555491 0.43929201 0.06958075 0.92501197 0.87874451 0.85924535\n",
      " 0.23223349 0.80240351 0.71568038 0.00115385 0.62400744 0.18973862\n",
      " 0.3644716  0.30891498 0.67241392 0.51107678 0.56847448 0.28030457\n",
      " 0.00596967 0.72864625 0.50952741 0.73993779 0.31245871 0.89947618\n",
      " 0.20183402 0.02114831 0.01530476 0.62101425 0.83759163 0.98105788\n",
      " 0.58363256 0.2041373  0.05676846 0.72562215 0.01330515 0.01770166\n",
      " 0.37278338 0.18307542 0.18595578 0.45357273 0.21103288 0.90073925\n",
      " 0.08686697 0.9195035  0.4575071  0.66191503 0.77604028 0.21499604\n",
      " 0.78044164 0.08942131 0.16001637 0.33607951 0.10109995 0.77620781\n",
      " 0.43824298 0.65929621 0.29577874 0.74082144 0.53041285 0.60651943\n",
      " 0.07696077 0.1854062  0.97027351 0.47036301 0.48767218 0.63586464\n",
      " 0.40121509 0.74973223 0.64085365 0.35778451 0.10016604 0.08290857\n",
      " 0.8344075  0.02914378 0.45625418 0.50729615]\n",
      "(100,) \n",
      "\n",
      "[[0.25366325 0.62815683 0.15480888 0.03337842 0.392229   0.72311053\n",
      "  0.67442362 0.9095328  0.93173654 0.3733687 ]\n",
      " [0.60256391 0.43539933 0.66404101 0.41980805 0.71668982 0.39710375\n",
      "  0.05495269 0.05048192 0.02365273 0.14255564]\n",
      " [0.36734444 0.82494767 0.10045144 0.09293812 0.91555491 0.43929201\n",
      "  0.06958075 0.92501197 0.87874451 0.85924535]\n",
      " [0.23223349 0.80240351 0.71568038 0.00115385 0.62400744 0.18973862\n",
      "  0.3644716  0.30891498 0.67241392 0.51107678]\n",
      " [0.56847448 0.28030457 0.00596967 0.72864625 0.50952741 0.73993779\n",
      "  0.31245871 0.89947618 0.20183402 0.02114831]\n",
      " [0.01530476 0.62101425 0.83759163 0.98105788 0.58363256 0.2041373\n",
      "  0.05676846 0.72562215 0.01330515 0.01770166]\n",
      " [0.37278338 0.18307542 0.18595578 0.45357273 0.21103288 0.90073925\n",
      "  0.08686697 0.9195035  0.4575071  0.66191503]\n",
      " [0.77604028 0.21499604 0.78044164 0.08942131 0.16001637 0.33607951\n",
      "  0.10109995 0.77620781 0.43824298 0.65929621]\n",
      " [0.29577874 0.74082144 0.53041285 0.60651943 0.07696077 0.1854062\n",
      "  0.97027351 0.47036301 0.48767218 0.63586464]\n",
      " [0.40121509 0.74973223 0.64085365 0.35778451 0.10016604 0.08290857\n",
      "  0.8344075  0.02914378 0.45625418 0.50729615]]\n",
      "(10, 10)\n"
     ]
    }
   ],
   "source": [
    "# Reshape. Reorganiza el array con la forma indicada\n",
    "a = np.random.rand(100)\n",
    "print(a)\n",
    "print(a.shape, '\\n')\n",
    "\n",
    "print(a.reshape(10,10))\n",
    "print(a.reshape(10,10).shape)\n"
   ]
  },
  {
   "cell_type": "code",
   "execution_count": 99,
   "metadata": {},
   "outputs": [
    {
     "data": {
      "text/plain": [
       "array([[11, 10,  9,  8,  7],\n",
       "       [ 6,  7,  8,  9, 10],\n",
       "       [ 0,  1,  2,  3,  4]])"
      ]
     },
     "execution_count": 99,
     "metadata": {},
     "output_type": "execute_result"
    }
   ],
   "source": [
    "# Apilar arrays\n",
    "a = np.arange(5)\n",
    "b = np.arange(6,11)\n",
    "c = np.arange(11,6,-1)\n",
    "\n",
    "np.vstack([c,b,a])"
   ]
  },
  {
   "cell_type": "code",
   "execution_count": 107,
   "metadata": {},
   "outputs": [
    {
     "name": "stdout",
     "output_type": "stream",
     "text": [
      "[[ 0  1  2  3]\n",
      " [ 4  5  6  7]\n",
      " [ 8  9 10 11]\n",
      " [12 13 14 15]\n",
      " [16 17 18 19]\n",
      " [20 21 22 23]] \n",
      "\n",
      "[[24 23 22 21]\n",
      " [20 19 18 17]\n",
      " [16 15 14 13]\n",
      " [12 11 10  9]\n",
      " [ 8  7  6  5]\n",
      " [ 4  3  2  1]] \n",
      "\n"
     ]
    },
    {
     "data": {
      "text/plain": [
       "array([[ 0,  1,  2,  3, 24, 23, 22, 21],\n",
       "       [ 4,  5,  6,  7, 20, 19, 18, 17],\n",
       "       [ 8,  9, 10, 11, 16, 15, 14, 13],\n",
       "       [12, 13, 14, 15, 12, 11, 10,  9],\n",
       "       [16, 17, 18, 19,  8,  7,  6,  5],\n",
       "       [20, 21, 22, 23,  4,  3,  2,  1]])"
      ]
     },
     "execution_count": 107,
     "metadata": {},
     "output_type": "execute_result"
    }
   ],
   "source": [
    "# apilar arrays horinzontal\n",
    "a = np.arange(24).reshape(6,4)\n",
    "b = np.arange(24,0,-1).reshape(6,4)\n",
    "print(a, '\\n')\n",
    "print(b, '\\n')\n",
    "np.hstack([a,b])"
   ]
  },
  {
   "cell_type": "code",
   "execution_count": 111,
   "metadata": {},
   "outputs": [
    {
     "name": "stdout",
     "output_type": "stream",
     "text": [
      "[[ 0  1  2  3]\n",
      " [ 4  5  6  7]\n",
      " [ 8  9 10 11]\n",
      " [12 13 14 15]\n",
      " [16 17 18 19]\n",
      " [20 21 22 23]] \n",
      "\n",
      "[[24 23 22 21]\n",
      " [20 19 18 17]\n",
      " [16 15 14 13]\n",
      " [12 11 10  9]\n",
      " [ 8  7  6  5]\n",
      " [ 4  3  2  1]] \n",
      "\n",
      "[[[ 0 24]\n",
      "  [ 1 23]\n",
      "  [ 2 22]\n",
      "  [ 3 21]]\n",
      "\n",
      " [[ 4 20]\n",
      "  [ 5 19]\n",
      "  [ 6 18]\n",
      "  [ 7 17]]\n",
      "\n",
      " [[ 8 16]\n",
      "  [ 9 15]\n",
      "  [10 14]\n",
      "  [11 13]]\n",
      "\n",
      " [[12 12]\n",
      "  [13 11]\n",
      "  [14 10]\n",
      "  [15  9]]\n",
      "\n",
      " [[16  8]\n",
      "  [17  7]\n",
      "  [18  6]\n",
      "  [19  5]]\n",
      "\n",
      " [[20  4]\n",
      "  [21  3]\n",
      "  [22  2]\n",
      "  [23  1]]]\n",
      "(6, 4, 2)\n"
     ]
    }
   ],
   "source": [
    "# apilar arrays 3d\n",
    "a = np.arange(24).reshape(6,4)\n",
    "b = np.arange(24,0,-1).reshape(6,4)\n",
    "print(a, '\\n')\n",
    "print(b, '\\n')\n",
    "print(np.dstack([a,b]))\n",
    "print(np.dstack([a,b]).shape)"
   ]
  },
  {
   "cell_type": "code",
   "execution_count": 117,
   "metadata": {},
   "outputs": [
    {
     "name": "stdout",
     "output_type": "stream",
     "text": [
      "[[[ 0  1  2  3]\n",
      "  [ 4  5  6  7]\n",
      "  [ 8  9 10 11]\n",
      "  [12 13 14 15]\n",
      "  [16 17 18 19]\n",
      "  [20 21 22 23]]\n",
      "\n",
      " [[24 23 22 21]\n",
      "  [20 19 18 17]\n",
      "  [16 15 14 13]\n",
      "  [12 11 10  9]\n",
      "  [ 8  7  6  5]\n",
      "  [ 4  3  2  1]]]\n",
      "(2, 6, 4)\n"
     ]
    }
   ],
   "source": [
    "# Concatenar en la 3d\n",
    "print(np.array([a,b]))\n",
    "print(np.array([a,b]).shape)"
   ]
  },
  {
   "cell_type": "markdown",
   "metadata": {},
   "source": [
    "Cargar datos de un fichero"
   ]
  },
  {
   "cell_type": "code",
   "execution_count": 210,
   "metadata": {},
   "outputs": [
    {
     "name": "stdout",
     "output_type": "stream",
     "text": [
      "[[ 1  2 13  4 15  6 17  8 19 10]\n",
      " [11  2 13  4  5 16  7 18  9 20]\n",
      " [21 12 23  6 25  8 27  1 29  1]\n",
      " [31  2 33  4 35  6 37  8 39 10]\n",
      " [41 12 43  6 45  8 47  1 49  1]]\n",
      "<class 'numpy.ndarray'>\n",
      "(5, 10)\n"
     ]
    }
   ],
   "source": [
    "import numpy as np\n",
    "'''\n",
    "1,2,13,4,15,6,17,8,19,10\n",
    "11,2,13,4,5,16,7,18,9,20\n",
    "21,12,23,6,25,8,27,1,29,1\n",
    "31,2,33,4,35,6,37,8,39,10\n",
    "41,12,43,6,45,8,47,1,49,1\n",
    "'''\n",
    "fichero = np.genfromtxt('numpy_values.txt', delimiter=',')\n",
    "fichero = fichero.astype(int)\n",
    "print(fichero)\n",
    "print(type(fichero))\n",
    "print(fichero.shape)"
   ]
  },
  {
   "cell_type": "markdown",
   "metadata": {},
   "source": [
    "Máscaras booleanas y operaciones avanzadas"
   ]
  },
  {
   "cell_type": "code",
   "execution_count": 160,
   "metadata": {},
   "outputs": [
    {
     "name": "stdout",
     "output_type": "stream",
     "text": [
      "[[False False False False False False False False False False]\n",
      " [False False False False False False False False False False]\n",
      " [False False False False False False False False False False]\n",
      " [False False False False False False False False False False]\n",
      " [ True False  True False  True False  True False  True False]]\n"
     ]
    }
   ],
   "source": [
    "# Generar una másca booleana\n",
    "# La máscara filtra los valores > 40\n",
    "mayores_40 = fichero > 40\n",
    "print(mayores_40)\n"
   ]
  },
  {
   "cell_type": "code",
   "execution_count": 161,
   "metadata": {},
   "outputs": [
    {
     "data": {
      "text/plain": [
       "array([41, 43, 45, 47, 49])"
      ]
     },
     "execution_count": 161,
     "metadata": {},
     "output_type": "execute_result"
    }
   ],
   "source": [
    "# Aplicar máscara booleana\n",
    "fichero[mayores_40]\n",
    "\n",
    "# otra forma\n",
    "# fichero[fichero > 40]"
   ]
  },
  {
   "cell_type": "code",
   "execution_count": 163,
   "metadata": {},
   "outputs": [
    {
     "name": "stdout",
     "output_type": "stream",
     "text": [
      "[[ 1  2 13  4 15  6 17  8 19 10]\n",
      " [11  2 13  4  5 16  7 18  9 20]\n",
      " [21 12 23  6 25  8 27  1 29  1]\n",
      " [31  2 33  4 35  6 37  8 39 10]\n",
      " [ 0 12  0  6  0  8  0  1  0  1]]\n"
     ]
    }
   ],
   "source": [
    "# poner a 0 los valores > 40\n",
    "fichero[mayores_40] = 0\n",
    "print(fichero)"
   ]
  },
  {
   "cell_type": "code",
   "execution_count": 178,
   "metadata": {},
   "outputs": [
    {
     "name": "stdout",
     "output_type": "stream",
     "text": [
      "[[False False False False False False False False False False]\n",
      " [False False False False False False False False False False]\n",
      " [False False False False False False False False False False]\n",
      " [ True False  True False  True False  True False  True False]\n",
      " [False False False False False False False False False False]]\n"
     ]
    }
   ],
   "source": [
    "# Concatenar condiciones\n",
    "mayores_30_menores_40 = (fichero > 30) & (fichero < 40)\n",
    "print(mayores_30_menores_40)\n"
   ]
  },
  {
   "cell_type": "code",
   "execution_count": 174,
   "metadata": {},
   "outputs": [
    {
     "data": {
      "text/plain": [
       "array([31, 33, 35, 37, 39])"
      ]
     },
     "execution_count": 174,
     "metadata": {},
     "output_type": "execute_result"
    }
   ],
   "source": [
    "# Aplica máscara contatenar condiciones\n",
    "fichero[mayores_30_menores_40]"
   ]
  },
  {
   "cell_type": "code",
   "execution_count": 185,
   "metadata": {},
   "outputs": [
    {
     "name": "stdout",
     "output_type": "stream",
     "text": [
      "[[ True  True  True  True  True  True  True  True  True  True]\n",
      " [ True  True  True  True  True  True  True  True  True  True]\n",
      " [ True  True  True  True  True  True  True  True  True  True]\n",
      " [False  True False  True False  True False  True False  True]\n",
      " [ True  True  True  True  True  True  True  True  True  True]]\n"
     ]
    }
   ],
   "source": [
    "# Negar condición\n",
    "no_mayores_30_menores_40 = np.logical_not((fichero > 30) & (fichero < 40))\n",
    "print(no_mayores_30_menores_40)"
   ]
  },
  {
   "cell_type": "code",
   "execution_count": 186,
   "metadata": {},
   "outputs": [
    {
     "name": "stdout",
     "output_type": "stream",
     "text": [
      "[ 1  2 13  4 15  6 17  8 19 10 11  2 13  4  5 16  7 18  9 20 21 12 23  6\n",
      " 25  8 27  1 29  1  2  4  6  8 10 41 12 43  6 45  8 47  1 49  1]\n"
     ]
    }
   ],
   "source": [
    "print(fichero[no_mayores_30_menores_40])"
   ]
  },
  {
   "cell_type": "code",
   "execution_count": 188,
   "metadata": {},
   "outputs": [
    {
     "data": {
      "text/plain": [
       "False"
      ]
     },
     "execution_count": 188,
     "metadata": {},
     "output_type": "execute_result"
    }
   ],
   "source": [
    "# Any\n",
    "# hay algún valor mayor que 50?\n",
    "np.any(fichero > 50)"
   ]
  },
  {
   "cell_type": "code",
   "execution_count": 196,
   "metadata": {},
   "outputs": [
    {
     "name": "stdout",
     "output_type": "stream",
     "text": [
      "[[ 1  2 13  4 15  6 17  8 19 10]\n",
      " [11  2 13  4  5 16  7 18  9 20]\n",
      " [21 12 23  6 25  8 27  1 29  1]\n",
      " [31  2 33  4 35  6 37  8 39 10]\n",
      " [41 12 43  6 45  8 47  1 49  1]] \n",
      "\n",
      "[ True False  True False  True False  True False  True False]\n"
     ]
    }
   ],
   "source": [
    "# Any se puede especificar si la comprobación es por filas o columna con axis=\n",
    "# Obtener las columna que contienen un valor > 40\n",
    "print(fichero,'\\n')\n",
    "column_mayores_40 = np.any(fichero > 40, axis=0)\n",
    "print(column_mayores_40)"
   ]
  },
  {
   "cell_type": "code",
   "execution_count": 194,
   "metadata": {},
   "outputs": [
    {
     "data": {
      "text/plain": [
       "array([[ 1, 13, 15, 17, 19],\n",
       "       [11, 13,  5,  7,  9],\n",
       "       [21, 23, 25, 27, 29],\n",
       "       [31, 33, 35, 37, 39],\n",
       "       [41, 43, 45, 47, 49]])"
      ]
     },
     "execution_count": 194,
     "metadata": {},
     "output_type": "execute_result"
    }
   ],
   "source": [
    "# aplicar máscar de columnas\n",
    "fichero[:,column_mayores_40]"
   ]
  },
  {
   "cell_type": "code",
   "execution_count": 197,
   "metadata": {},
   "outputs": [
    {
     "name": "stdout",
     "output_type": "stream",
     "text": [
      "[[ 1  2 13  4 15  6 17  8 19 10]\n",
      " [11  2 13  4  5 16  7 18  9 20]\n",
      " [21 12 23  6 25  8 27  1 29  1]\n",
      " [31  2 33  4 35  6 37  8 39 10]\n",
      " [41 12 43  6 45  8 47  1 49  1]] \n",
      "\n",
      "[False False False False  True]\n"
     ]
    }
   ],
   "source": [
    "# Filtro por filas\n",
    "print(fichero,'\\n')\n",
    "filas_mayores_40 = np.any(fichero > 40, axis=1)\n",
    "print(filas_mayores_40)"
   ]
  },
  {
   "cell_type": "code",
   "execution_count": 202,
   "metadata": {},
   "outputs": [
    {
     "data": {
      "text/plain": [
       "array([[41, 12, 43,  6, 45,  8, 47,  1, 49,  1]])"
      ]
     },
     "execution_count": 202,
     "metadata": {},
     "output_type": "execute_result"
    }
   ],
   "source": [
    "# Aplicar la máscara\n",
    "fichero[filas_mayores_40,:]"
   ]
  },
  {
   "cell_type": "code",
   "execution_count": 204,
   "metadata": {},
   "outputs": [
    {
     "name": "stdout",
     "output_type": "stream",
     "text": [
      "[[ 1  2 13  4 15  6 17  8 19 10]\n",
      " [11  2 13  4  5 16  7 18  9 20]\n",
      " [21 12 23  6 25  8 27  1 29  1]\n",
      " [31  2 33  4 35  6 37  8 39 10]\n",
      " [41 12 43  6 45  8 47  1 49  1]] \n",
      "\n",
      "[ True  True  True  True  True]\n"
     ]
    }
   ],
   "source": [
    "# Filtro por filas\n",
    "print(fichero,'\\n')\n",
    "filas_menores_47 = np.any(fichero < 47, axis=1)\n",
    "print(filas_menores_47)"
   ]
  },
  {
   "cell_type": "code",
   "execution_count": 206,
   "metadata": {},
   "outputs": [
    {
     "data": {
      "text/plain": [
       "array([41, 43, 45, 47, 49])"
      ]
     },
     "execution_count": 206,
     "metadata": {},
     "output_type": "execute_result"
    }
   ],
   "source": [
    "# Aplicar ambas máscaras\n",
    "fichero[filas_mayores_40,column_mayores_40]"
   ]
  },
  {
   "cell_type": "code",
   "execution_count": 207,
   "metadata": {},
   "outputs": [
    {
     "data": {
      "text/plain": [
       "array([ 1, 13, 25, 37, 49])"
      ]
     },
     "execution_count": 207,
     "metadata": {},
     "output_type": "execute_result"
    }
   ],
   "source": [
    "# Aplicar ambas máscaras\n",
    "fichero[filas_menores_47,column_mayores_40]"
   ]
  },
  {
   "cell_type": "code",
   "execution_count": 208,
   "metadata": {},
   "outputs": [
    {
     "data": {
      "text/plain": [
       "array([41, 43, 45, 47, 49])"
      ]
     },
     "execution_count": 208,
     "metadata": {},
     "output_type": "execute_result"
    }
   ],
   "source": [
    "fichero[fichero > 40]"
   ]
  },
  {
   "cell_type": "code",
   "execution_count": 217,
   "metadata": {},
   "outputs": [
    {
     "data": {
      "text/plain": [
       "array([[4, 0],\n",
       "       [4, 2],\n",
       "       [4, 4],\n",
       "       [4, 6],\n",
       "       [4, 8]])"
      ]
     },
     "execution_count": 217,
     "metadata": {},
     "output_type": "execute_result"
    }
   ],
   "source": [
    "np.argwhere((fichero > 40))"
   ]
  },
  {
   "cell_type": "code",
   "execution_count": null,
   "metadata": {},
   "outputs": [],
   "source": []
  }
 ],
 "metadata": {
  "kernelspec": {
   "display_name": "Python 3 (ipykernel)",
   "language": "python",
   "name": "python3"
  },
  "language_info": {
   "codemirror_mode": {
    "name": "ipython",
    "version": 3
   },
   "file_extension": ".py",
   "mimetype": "text/x-python",
   "name": "python",
   "nbconvert_exporter": "python",
   "pygments_lexer": "ipython3",
   "version": "3.8.10"
  },
  "vscode": {
   "interpreter": {
    "hash": "916dbcbb3f70747c44a77c7bcd40155683ae19c65e1c03b4aa3499c5328201f1"
   }
  }
 },
 "nbformat": 4,
 "nbformat_minor": 2
}
